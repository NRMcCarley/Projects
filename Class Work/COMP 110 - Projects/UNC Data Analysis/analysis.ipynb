{
 "metadata": {
  "language_info": {
   "codemirror_mode": {
    "name": "ipython",
    "version": 3
   },
   "file_extension": ".py",
   "mimetype": "text/x-python",
   "name": "python",
   "nbconvert_exporter": "python",
   "pygments_lexer": "ipython3",
   "version": "3.9.1"
  },
  "orig_nbformat": 2,
  "kernelspec": {
   "name": "python391jvsc74a57bd003949f7ab2fc83bb07bcead6930fb86c149b6f6f3922447671f2c9d88060e70b",
   "display_name": "Python 3.9.1 64-bit"
  },
  "metadata": {
   "interpreter": {
    "hash": "03949f7ab2fc83bb07bcead6930fb86c149b6f6f3922447671f2c9d88060e70b"
   }
  }
 },
 "nbformat": 4,
 "nbformat_minor": 2,
 "cells": [
  {
   "source": [
    "# Project 01\n",
    "\n",
    "__author__ = \"730323356\"\n",
    "\n",
    "Testable Question - Of the students taking this class that are majoring in Economics, which grade level is the most common among these students?\n",
    "\n",
    "Hypothesis - I expect that of the Econ majors in this class, the largest group by grade level will be freshmen. "
   ],
   "cell_type": "markdown",
   "metadata": {}
  },
  {
   "cell_type": "code",
   "execution_count": 35,
   "metadata": {},
   "outputs": [],
   "source": [
    "%reload_ext autoreload\n",
    "%autoreload 2"
   ]
  },
  {
   "source": [
    "## Step 1\n",
    "\n",
    "First I will read the csv data and convert it to column-oriented data."
   ],
   "cell_type": "markdown",
   "metadata": {}
  },
  {
   "cell_type": "code",
   "execution_count": 36,
   "metadata": {},
   "outputs": [],
   "source": [
    "from data_utils import read_csv_rows, columnar\n",
    "\n",
    "DATA_DIRECTORY=\"../../data\"\n",
    "DATA_FILE_PATH=f\"{DATA_DIRECTORY}/survey.csv\"\n",
    "\n",
    "data_rows: list[dict[str, str]] = read_csv_rows(DATA_FILE_PATH)\n",
    "columns: dict[str, list[str]] = columnar(data_rows)"
   ]
  },
  {
   "source": [
    "## Step 2\n",
    "\n",
    "Next, I will narrow down the chart to the columns of primary majors and graduation years. "
   ],
   "cell_type": "markdown",
   "metadata": {}
  },
  {
   "cell_type": "code",
   "execution_count": 52,
   "metadata": {},
   "outputs": [
    {
     "output_type": "stream",
     "name": "stdout",
     "text": [
      "Test Chart Listing Primary Major and Year\n"
     ]
    },
    {
     "output_type": "execute_result",
     "data": {
      "text/plain": [
       "'<table>\\n<thead>\\n<tr><th>primary_major    </th><th style=\"text-align: right;\">  year</th></tr>\\n</thead>\\n<tbody>\\n<tr><td>Public Health    </td><td style=\"text-align: right;\">    21</td></tr>\\n<tr><td>Statistics       </td><td style=\"text-align: right;\">    23</td></tr>\\n<tr><td>Statistics       </td><td style=\"text-align: right;\">    23</td></tr>\\n<tr><td>Sociology        </td><td style=\"text-align: right;\">    23</td></tr>\\n<tr><td>Computer Science </td><td style=\"text-align: right;\">    24</td></tr>\\n<tr><td>Physics          </td><td style=\"text-align: right;\">    22</td></tr>\\n<tr><td>Economics        </td><td style=\"text-align: right;\">    21</td></tr>\\n<tr><td>Psychology       </td><td style=\"text-align: right;\">    23</td></tr>\\n<tr><td>Math             </td><td style=\"text-align: right;\">    23</td></tr>\\n<tr><td>Political Science</td><td style=\"text-align: right;\">    23</td></tr>\\n</tbody>\\n</table>'"
      ],
      "text/html": "<table>\n<thead>\n<tr><th>primary_major    </th><th style=\"text-align: right;\">  year</th></tr>\n</thead>\n<tbody>\n<tr><td>Public Health    </td><td style=\"text-align: right;\">    21</td></tr>\n<tr><td>Statistics       </td><td style=\"text-align: right;\">    23</td></tr>\n<tr><td>Statistics       </td><td style=\"text-align: right;\">    23</td></tr>\n<tr><td>Sociology        </td><td style=\"text-align: right;\">    23</td></tr>\n<tr><td>Computer Science </td><td style=\"text-align: right;\">    24</td></tr>\n<tr><td>Physics          </td><td style=\"text-align: right;\">    22</td></tr>\n<tr><td>Economics        </td><td style=\"text-align: right;\">    21</td></tr>\n<tr><td>Psychology       </td><td style=\"text-align: right;\">    23</td></tr>\n<tr><td>Math             </td><td style=\"text-align: right;\">    23</td></tr>\n<tr><td>Political Science</td><td style=\"text-align: right;\">    23</td></tr>\n</tbody>\n</table>"
     },
     "metadata": {},
     "execution_count": 52
    }
   ],
   "source": [
    "from data_utils import select, head\n",
    "from tabulate import tabulate\n",
    "\n",
    "chart: dict[str, list[str]] = select(columns, [\"primary_major\", \"year\"])\n",
    "test_data: dict[str, list[str]] = head(chart, 10)\n",
    "\n",
    "print(\"Test Chart Listing Primary Major and Year\")\n",
    "tabulate(test_data, test_data.keys(), \"html\")"
   ]
  },
  {
   "source": [
    "## Step 3\n",
    "\n",
    "Next, I will need to create a mask that filters out non-Econ majors. This will leave only those with Econ as their primary major. "
   ],
   "cell_type": "markdown",
   "metadata": {}
  },
  {
   "cell_type": "code",
   "execution_count": 38,
   "metadata": {},
   "outputs": [
    {
     "output_type": "stream",
     "name": "stdout",
     "text": [
      "[False, False, False, False, False, False, True, False, False, False, False, False, False, False, False, False, False, False, False, False, False, False, False, False, True, False, False, False, False, False, False, False, True, False, True, False, False, False, False, True, True, False, False, False, False, False, False, False, False, False, False, False, False, False, False, False, False, False, True, False, False, False, False, False, False, False, False, False, False, False, False, False, False, False, False, False, False, False, False, False, False, False, False, False, False, False, False, False, False, False, False, False, False, False, False, False, True, True, True, False, False, False, False, False, False, True, False, False, False, False, False, False, False, False, True, False, False, False, False, False, False, False, False, False, False, False, False, False, False, False, False, False, False, False, False, True, False, False, True, False, False, False, False, False, False, False, False, False, False, False, True, False, False, True, False, False, False, False, False, False, False, False, False, False, False, False, True, False, True, False, False, False, False, False, False, False, False, False, False, False, True, False, False, False, False, False, True, False, False, False, False, False, False, False, False, False, False, False, False, False, False, False, False, False, False, False, False, False, False, False, False, False, False, False, True, False, False, False, False, False, False, False, False, False, True, False, False, False, False, False, False, False, False, False, False, False, True, False, False, False, False, False, True, False, False, False, False, False, True, False, False, True, True, False, False, False, False, False, False, False, False, False, False, False, True, True, False, False, False, False, False, False, False, False, False, False, False, False, False, False, True, False, False, False, False, False, False, False, False, False, False, False, False, False, False, False, False, False, False, False, False, False, True, False, False, False, False, True, False, False, False, False, False, False, False, False, False, True, False, False, False, False, False, False, False, False, False, False, False, False, False, False, True, False, False, False, False, False, True, False, False, False, False, False, False, False, False, False, False, False, False, True, False, False, False, False, False, False, False, False, False, True, False, False, False, False, False, False, False, False, False, True, True, False, True, False, True, False, False, False, False, False, False, False, False, False, False, False, False, False, False, True, False, True, False, False, False, False, False, False, False, False, False, False, False, False, False, False, False, False, False, False, False, True, False, True, False, True, False, False, False, False, False, False, False, False, False, False, False, False, False, False, False, False, False, False, True, False, False, False, False, False, False, False, False, False, False, True, False, False, False, False, False, False, False, False, False, False, False, False, False, True, False, False, False, False, False, False, False, False, False, False, False, False, False, False, True, False, False, False, False, False, False, False, False, False, False, False, False, False, False, False, False, False, False, False, False, False, False, False, True, False]\n"
     ]
    }
   ],
   "source": [
    "def filterer(majors: list[str], include: str) -> list[bool]:\n",
    "    result: list[bool] = []\n",
    "    for item in majors:\n",
    "        result.append(item == include)\n",
    "    return result\n",
    "\n",
    "chart_list: list[str] = chart[\"primary_major\"]\n",
    "\n",
    "major_mask: list[bool] = filterer(chart_list, \"Economics\")\n",
    "print(major_mask)"
   ]
  },
  {
   "source": [
    "## Step 4\n",
    "\n",
    "Next, I will apply the mask to the list of all graduation years to produce a list of only those years that are associated with Econ students. "
   ],
   "cell_type": "markdown",
   "metadata": {}
  },
  {
   "cell_type": "code",
   "execution_count": 39,
   "metadata": {},
   "outputs": [
    {
     "output_type": "stream",
     "name": "stdout",
     "text": [
      "[21, 23, 23, 24, 22, 22, 23, 23, 23, 23, 24, 24, 24, 23, 23, 22, 23, 22, 21, 23, 23, 23, 24, 23, 22, 21, 22, 22, 23, 24, 21, 23, 24, 24, 22, 23, 24, 22, 23, 23, 22, 21, 22, 23, 22, 23, 23, 24, 23, 22, 21]\n"
     ]
    }
   ],
   "source": [
    "def masked(years: list[str], mask: list[bool]) -> list[int]:\n",
    "    result: list[int] = []\n",
    "    for i in range(len(major_mask)):\n",
    "        if major_mask[i]:\n",
    "            result.append(int(years[i]))\n",
    "    return result\n",
    "\n",
    "yrs: list[int] = masked(chart[\"year\"], major_mask)\n",
    "print(yrs)"
   ]
  },
  {
   "source": [
    "## Step 5\n",
    "\n",
    "Now that I have a list of all the graduation years of Econ majors, I can sort them by year to determine how many of them are in the first two years, and how many are in their second two years. "
   ],
   "cell_type": "markdown",
   "metadata": {}
  },
  {
   "cell_type": "code",
   "execution_count": 47,
   "metadata": {},
   "outputs": [
    {
     "output_type": "stream",
     "name": "stdout",
     "text": [
      "Freshmen: 10\nSophomores: 22\nJuniors: 13\nSeniors: 6\n"
     ]
    }
   ],
   "source": [
    "from data_utils import count\n",
    "\n",
    "year_counts: dict[int, int] = count(yrs)\n",
    "\n",
    "num_freshmen: int = year_counts[24]\n",
    "print(f\"Freshmen: {num_freshmen}\")\n",
    "num_sophomores: int = year_counts[23]\n",
    "print(f\"Sophomores: {num_sophomores}\")\n",
    "num_juniors: int = year_counts[22]\n",
    "print(f\"Juniors: {num_juniors}\")\n",
    "num_seniors: int = year_counts[21]\n",
    "print(f\"Seniors: {num_seniors}\")"
   ]
  },
  {
   "source": [
    "## Conclusion\n",
    "\n",
    "My hypothesis was incorrect; freshmen were actually the third largest group out of the four grade levels of students in COMP 110 that major in Economics. However, I was able to answer my question. The main issue with this analysis is that the data size (51) is not large enough to draw impactful conclusions, although it does give a decent idea of the breakdown by grade. It is understandable that most of the Econ majors in COMP 110 are sophomores or juniors, as this class is entry-level. Economics can involve computing and studying data, so it would be smarter to take this course sooner rather than later in one's academic progression. The number of freshman Econ students in this class could be attributed to the fact that courses early on in the Economics track are quite hard, so students are less likely to take an \"unneccesary\" coding class with an already tough schedule in their first year at college. "
   ],
   "cell_type": "markdown",
   "metadata": {}
  }
 ]
}