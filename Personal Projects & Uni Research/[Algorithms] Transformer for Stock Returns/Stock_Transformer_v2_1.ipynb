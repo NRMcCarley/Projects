{
  "cells": [
    {
      "cell_type": "markdown",
      "source": [
        "# **0. Hyperparameters**"
      ],
      "metadata": {
        "id": "rwRxKQoea_c1"
      }
    },
    {
      "cell_type": "markdown",
      "source": [
        "## **0.1 Data Params**"
      ],
      "metadata": {
        "id": "_MjwDAq3aCsU"
      }
    },
    {
      "cell_type": "code",
      "execution_count": 1,
      "metadata": {
        "id": "5y9aJF8cvMqA"
      },
      "outputs": [],
      "source": [
        "CONTEXT_SIZE = 150                 # Number of tokens to consider in input\n",
        "TOKENS_TO_PREDICT = 1              # Number of tokens to generate in output\n",
        "\n",
        "NUM_BINS_INPUT = 150               # Number of bins for inputs\n",
        "NUM_BINS_OUTPUT = 2                # Number of bins for targets\n",
        "\n",
        "BATCH_SIZE = 15                    # Batch size"
      ]
    },
    {
      "cell_type": "markdown",
      "source": [
        "## **0.2 Model Params**"
      ],
      "metadata": {
        "id": "k1zSkiWwaHh3"
      }
    },
    {
      "cell_type": "code",
      "source": [
        "D_MODEL = 1024                     # Model dimension\n",
        "NUM_HEADS = 16                     # Number of heads\n",
        "D_K = int(D_MODEL / NUM_HEADS)     # Dimension of Q and K\n",
        "D_V = D_K                          # Dimension of V\n",
        "D_FF = 2048                        # Number of neurons in Feed Forward layer\n",
        "\n",
        "NUM_LAYERS = 6                     # Number of Encoder/Decoder Stacks\n",
        "DROPOUT_RATE = 0.1                 # Gloabl dropout rate\n",
        "EPSILON = 0.00001                  # Constant added to ensure nonzero values\n",
        "WARMUP_STEPS = 1000                # Warmup (linear increase in learning rate) steps before cooldown"
      ],
      "metadata": {
        "id": "kxFv7uslaLtR"
      },
      "execution_count": 2,
      "outputs": []
    },
    {
      "cell_type": "markdown",
      "source": [
        "# **1. Import and Install Dependencies**"
      ],
      "metadata": {
        "id": "yoYPUpflX2Rw"
      }
    },
    {
      "cell_type": "markdown",
      "source": [
        "## **1.1 Install Dependencies**"
      ],
      "metadata": {
        "id": "-WYM-mWkUhHI"
      }
    },
    {
      "cell_type": "code",
      "execution_count": 3,
      "metadata": {
        "colab": {
          "base_uri": "https://localhost:8080/"
        },
        "id": "5oAw85X3Ga_m",
        "outputId": "f5c9bc99-7165-480e-ec1a-f43da4e72c61"
      },
      "outputs": [
        {
          "output_type": "stream",
          "name": "stdout",
          "text": [
            "Requirement already satisfied: tensorflow in /usr/local/lib/python3.10/dist-packages (2.13.0)\n",
            "Collecting tensorflow-gpu\n",
            "  Downloading tensorflow-gpu-2.12.0.tar.gz (2.6 kB)\n",
            "  \u001b[1;31merror\u001b[0m: \u001b[1msubprocess-exited-with-error\u001b[0m\n",
            "  \n",
            "  \u001b[31m×\u001b[0m \u001b[32mpython setup.py egg_info\u001b[0m did not run successfully.\n",
            "  \u001b[31m│\u001b[0m exit code: \u001b[1;36m1\u001b[0m\n",
            "  \u001b[31m╰─>\u001b[0m See above for output.\n",
            "  \n",
            "  \u001b[1;35mnote\u001b[0m: This error originates from a subprocess, and is likely not a problem with pip.\n",
            "  Preparing metadata (setup.py) ... \u001b[?25l\u001b[?25herror\n",
            "\u001b[1;31merror\u001b[0m: \u001b[1mmetadata-generation-failed\u001b[0m\n",
            "\n",
            "\u001b[31m×\u001b[0m Encountered error while generating package metadata.\n",
            "\u001b[31m╰─>\u001b[0m See above for output.\n",
            "\n",
            "\u001b[1;35mnote\u001b[0m: This is an issue with the package mentioned above, not pip.\n",
            "\u001b[1;36mhint\u001b[0m: See above for details.\n"
          ]
        }
      ],
      "source": [
        "!pip install tensorflow tensorflow-gpu tensorflow-io matplotlib"
      ]
    },
    {
      "cell_type": "markdown",
      "source": [
        "## **1.2 Load Dependencies**"
      ],
      "metadata": {
        "id": "sJilj1ObWu_Y"
      }
    },
    {
      "cell_type": "code",
      "execution_count": 4,
      "metadata": {
        "colab": {
          "base_uri": "https://localhost:8080/"
        },
        "id": "Xn5uKY-io0wM",
        "outputId": "16d35d92-aec5-4717-b4ea-f31069c4e97b"
      },
      "outputs": [
        {
          "output_type": "stream",
          "name": "stdout",
          "text": [
            "2.13.0\n"
          ]
        }
      ],
      "source": [
        "import tensorflow as tf\n",
        "from tensorflow import keras\n",
        "from tensorflow.keras import layers\n",
        "from tensorflow.keras.layers import Embedding, MultiHeadAttention, LayerNormalization, Dropout, Dense\n",
        "from tensorflow.keras.models import Sequential\n",
        "print(tf.__version__)"
      ]
    },
    {
      "cell_type": "code",
      "execution_count": 5,
      "metadata": {
        "id": "uDpXVKF7ft7m"
      },
      "outputs": [],
      "source": [
        "import numpy as np\n",
        "import pandas as pd\n",
        "import matplotlib.pyplot as plt"
      ]
    },
    {
      "cell_type": "markdown",
      "metadata": {
        "id": "Ko6WVuaMl2hh"
      },
      "source": [
        "# **2. Load Data**"
      ]
    },
    {
      "cell_type": "markdown",
      "source": [
        "## **2.1 Define Paths to Files**"
      ],
      "metadata": {
        "id": "DyKPJPqKXBJS"
      }
    },
    {
      "cell_type": "code",
      "source": [
        "from google.colab import drive\n",
        "drive.mount('/content/drive')"
      ],
      "metadata": {
        "colab": {
          "base_uri": "https://localhost:8080/"
        },
        "id": "RYWqOpgvVoeP",
        "outputId": "fba8bc66-4f16-4d38-8d6e-27f8d3f0c86d"
      },
      "execution_count": 6,
      "outputs": [
        {
          "output_type": "stream",
          "name": "stdout",
          "text": [
            "Drive already mounted at /content/drive; to attempt to forcibly remount, call drive.mount(\"/content/drive\", force_remount=True).\n"
          ]
        }
      ]
    },
    {
      "cell_type": "code",
      "source": [
        "df = pd.read_csv('/content/drive/MyDrive/Data/AAPL 4.csv')\n",
        "print(df.head())"
      ],
      "metadata": {
        "colab": {
          "base_uri": "https://localhost:8080/"
        },
        "id": "vfX37JsVUCAD",
        "outputId": "a837138a-0475-4034-f5c2-f7b29756a727"
      },
      "execution_count": 7,
      "outputs": [
        {
          "output_type": "stream",
          "name": "stdout",
          "text": [
            "         Date       Open       High        Low      Close  Adj Close  \\\n",
            "0  2013-09-23  17.717857  17.746786  17.235714  17.522858  15.293097   \n",
            "1  2013-09-24  17.674286  17.695356  17.422144  17.467857  15.245091   \n",
            "2  2013-09-25  17.471430  17.487143  17.193930  17.197500  15.009134   \n",
            "3  2013-09-26  17.357143  17.448570  17.282143  17.365000  15.155321   \n",
            "4  2013-09-27  17.277857  17.309643  17.168571  17.241072  15.047170   \n",
            "\n",
            "      Volume  \n",
            "0  762106800  \n",
            "1  364344400  \n",
            "2  316957200  \n",
            "3  237221600  \n",
            "4  228040400  \n"
          ]
        }
      ]
    },
    {
      "cell_type": "markdown",
      "source": [
        "## **2.2 Read Data**"
      ],
      "metadata": {
        "id": "_1mIiUgvXk75"
      }
    },
    {
      "cell_type": "code",
      "source": [
        "df"
      ],
      "metadata": {
        "colab": {
          "base_uri": "https://localhost:8080/",
          "height": 0
        },
        "id": "boygjM5AZXGH",
        "outputId": "d9e43356-aee0-43a3-c730-93c49b76bd2b"
      },
      "execution_count": 8,
      "outputs": [
        {
          "output_type": "execute_result",
          "data": {
            "text/plain": [
              "            Date        Open        High         Low       Close   Adj Close  \\\n",
              "0     2013-09-23   17.717857   17.746786   17.235714   17.522858   15.293097   \n",
              "1     2013-09-24   17.674286   17.695356   17.422144   17.467857   15.245091   \n",
              "2     2013-09-25   17.471430   17.487143   17.193930   17.197500   15.009134   \n",
              "3     2013-09-26   17.357143   17.448570   17.282143   17.365000   15.155321   \n",
              "4     2013-09-27   17.277857   17.309643   17.168571   17.241072   15.047170   \n",
              "...          ...         ...         ...         ...         ...         ...   \n",
              "2511  2023-09-14  174.000000  176.100006  173.580002  175.740005  175.740005   \n",
              "2512  2023-09-15  176.479996  176.500000  173.820007  175.009995  175.009995   \n",
              "2513  2023-09-18  176.479996  179.380005  176.169998  177.970001  177.970001   \n",
              "2514  2023-09-19  177.520004  179.630005  177.130005  179.070007  179.070007   \n",
              "2515  2023-09-20  179.259995  179.699997  175.399994  175.490005  175.490005   \n",
              "\n",
              "         Volume  \n",
              "0     762106800  \n",
              "1     364344400  \n",
              "2     316957200  \n",
              "3     237221600  \n",
              "4     228040400  \n",
              "...         ...  \n",
              "2511   60895800  \n",
              "2512  109205100  \n",
              "2513   67257600  \n",
              "2514   51826900  \n",
              "2515   58333200  \n",
              "\n",
              "[2516 rows x 7 columns]"
            ],
            "text/html": [
              "\n",
              "  <div id=\"df-5ce55a3a-b4dd-48af-819b-44c0b92fe348\" class=\"colab-df-container\">\n",
              "    <div>\n",
              "<style scoped>\n",
              "    .dataframe tbody tr th:only-of-type {\n",
              "        vertical-align: middle;\n",
              "    }\n",
              "\n",
              "    .dataframe tbody tr th {\n",
              "        vertical-align: top;\n",
              "    }\n",
              "\n",
              "    .dataframe thead th {\n",
              "        text-align: right;\n",
              "    }\n",
              "</style>\n",
              "<table border=\"1\" class=\"dataframe\">\n",
              "  <thead>\n",
              "    <tr style=\"text-align: right;\">\n",
              "      <th></th>\n",
              "      <th>Date</th>\n",
              "      <th>Open</th>\n",
              "      <th>High</th>\n",
              "      <th>Low</th>\n",
              "      <th>Close</th>\n",
              "      <th>Adj Close</th>\n",
              "      <th>Volume</th>\n",
              "    </tr>\n",
              "  </thead>\n",
              "  <tbody>\n",
              "    <tr>\n",
              "      <th>0</th>\n",
              "      <td>2013-09-23</td>\n",
              "      <td>17.717857</td>\n",
              "      <td>17.746786</td>\n",
              "      <td>17.235714</td>\n",
              "      <td>17.522858</td>\n",
              "      <td>15.293097</td>\n",
              "      <td>762106800</td>\n",
              "    </tr>\n",
              "    <tr>\n",
              "      <th>1</th>\n",
              "      <td>2013-09-24</td>\n",
              "      <td>17.674286</td>\n",
              "      <td>17.695356</td>\n",
              "      <td>17.422144</td>\n",
              "      <td>17.467857</td>\n",
              "      <td>15.245091</td>\n",
              "      <td>364344400</td>\n",
              "    </tr>\n",
              "    <tr>\n",
              "      <th>2</th>\n",
              "      <td>2013-09-25</td>\n",
              "      <td>17.471430</td>\n",
              "      <td>17.487143</td>\n",
              "      <td>17.193930</td>\n",
              "      <td>17.197500</td>\n",
              "      <td>15.009134</td>\n",
              "      <td>316957200</td>\n",
              "    </tr>\n",
              "    <tr>\n",
              "      <th>3</th>\n",
              "      <td>2013-09-26</td>\n",
              "      <td>17.357143</td>\n",
              "      <td>17.448570</td>\n",
              "      <td>17.282143</td>\n",
              "      <td>17.365000</td>\n",
              "      <td>15.155321</td>\n",
              "      <td>237221600</td>\n",
              "    </tr>\n",
              "    <tr>\n",
              "      <th>4</th>\n",
              "      <td>2013-09-27</td>\n",
              "      <td>17.277857</td>\n",
              "      <td>17.309643</td>\n",
              "      <td>17.168571</td>\n",
              "      <td>17.241072</td>\n",
              "      <td>15.047170</td>\n",
              "      <td>228040400</td>\n",
              "    </tr>\n",
              "    <tr>\n",
              "      <th>...</th>\n",
              "      <td>...</td>\n",
              "      <td>...</td>\n",
              "      <td>...</td>\n",
              "      <td>...</td>\n",
              "      <td>...</td>\n",
              "      <td>...</td>\n",
              "      <td>...</td>\n",
              "    </tr>\n",
              "    <tr>\n",
              "      <th>2511</th>\n",
              "      <td>2023-09-14</td>\n",
              "      <td>174.000000</td>\n",
              "      <td>176.100006</td>\n",
              "      <td>173.580002</td>\n",
              "      <td>175.740005</td>\n",
              "      <td>175.740005</td>\n",
              "      <td>60895800</td>\n",
              "    </tr>\n",
              "    <tr>\n",
              "      <th>2512</th>\n",
              "      <td>2023-09-15</td>\n",
              "      <td>176.479996</td>\n",
              "      <td>176.500000</td>\n",
              "      <td>173.820007</td>\n",
              "      <td>175.009995</td>\n",
              "      <td>175.009995</td>\n",
              "      <td>109205100</td>\n",
              "    </tr>\n",
              "    <tr>\n",
              "      <th>2513</th>\n",
              "      <td>2023-09-18</td>\n",
              "      <td>176.479996</td>\n",
              "      <td>179.380005</td>\n",
              "      <td>176.169998</td>\n",
              "      <td>177.970001</td>\n",
              "      <td>177.970001</td>\n",
              "      <td>67257600</td>\n",
              "    </tr>\n",
              "    <tr>\n",
              "      <th>2514</th>\n",
              "      <td>2023-09-19</td>\n",
              "      <td>177.520004</td>\n",
              "      <td>179.630005</td>\n",
              "      <td>177.130005</td>\n",
              "      <td>179.070007</td>\n",
              "      <td>179.070007</td>\n",
              "      <td>51826900</td>\n",
              "    </tr>\n",
              "    <tr>\n",
              "      <th>2515</th>\n",
              "      <td>2023-09-20</td>\n",
              "      <td>179.259995</td>\n",
              "      <td>179.699997</td>\n",
              "      <td>175.399994</td>\n",
              "      <td>175.490005</td>\n",
              "      <td>175.490005</td>\n",
              "      <td>58333200</td>\n",
              "    </tr>\n",
              "  </tbody>\n",
              "</table>\n",
              "<p>2516 rows × 7 columns</p>\n",
              "</div>\n",
              "    <div class=\"colab-df-buttons\">\n",
              "\n",
              "  <div class=\"colab-df-container\">\n",
              "    <button class=\"colab-df-convert\" onclick=\"convertToInteractive('df-5ce55a3a-b4dd-48af-819b-44c0b92fe348')\"\n",
              "            title=\"Convert this dataframe to an interactive table.\"\n",
              "            style=\"display:none;\">\n",
              "\n",
              "  <svg xmlns=\"http://www.w3.org/2000/svg\" height=\"24px\" viewBox=\"0 -960 960 960\">\n",
              "    <path d=\"M120-120v-720h720v720H120Zm60-500h600v-160H180v160Zm220 220h160v-160H400v160Zm0 220h160v-160H400v160ZM180-400h160v-160H180v160Zm440 0h160v-160H620v160ZM180-180h160v-160H180v160Zm440 0h160v-160H620v160Z\"/>\n",
              "  </svg>\n",
              "    </button>\n",
              "\n",
              "  <style>\n",
              "    .colab-df-container {\n",
              "      display:flex;\n",
              "      gap: 12px;\n",
              "    }\n",
              "\n",
              "    .colab-df-convert {\n",
              "      background-color: #E8F0FE;\n",
              "      border: none;\n",
              "      border-radius: 50%;\n",
              "      cursor: pointer;\n",
              "      display: none;\n",
              "      fill: #1967D2;\n",
              "      height: 32px;\n",
              "      padding: 0 0 0 0;\n",
              "      width: 32px;\n",
              "    }\n",
              "\n",
              "    .colab-df-convert:hover {\n",
              "      background-color: #E2EBFA;\n",
              "      box-shadow: 0px 1px 2px rgba(60, 64, 67, 0.3), 0px 1px 3px 1px rgba(60, 64, 67, 0.15);\n",
              "      fill: #174EA6;\n",
              "    }\n",
              "\n",
              "    .colab-df-buttons div {\n",
              "      margin-bottom: 4px;\n",
              "    }\n",
              "\n",
              "    [theme=dark] .colab-df-convert {\n",
              "      background-color: #3B4455;\n",
              "      fill: #D2E3FC;\n",
              "    }\n",
              "\n",
              "    [theme=dark] .colab-df-convert:hover {\n",
              "      background-color: #434B5C;\n",
              "      box-shadow: 0px 1px 3px 1px rgba(0, 0, 0, 0.15);\n",
              "      filter: drop-shadow(0px 1px 2px rgba(0, 0, 0, 0.3));\n",
              "      fill: #FFFFFF;\n",
              "    }\n",
              "  </style>\n",
              "\n",
              "    <script>\n",
              "      const buttonEl =\n",
              "        document.querySelector('#df-5ce55a3a-b4dd-48af-819b-44c0b92fe348 button.colab-df-convert');\n",
              "      buttonEl.style.display =\n",
              "        google.colab.kernel.accessAllowed ? 'block' : 'none';\n",
              "\n",
              "      async function convertToInteractive(key) {\n",
              "        const element = document.querySelector('#df-5ce55a3a-b4dd-48af-819b-44c0b92fe348');\n",
              "        const dataTable =\n",
              "          await google.colab.kernel.invokeFunction('convertToInteractive',\n",
              "                                                    [key], {});\n",
              "        if (!dataTable) return;\n",
              "\n",
              "        const docLinkHtml = 'Like what you see? Visit the ' +\n",
              "          '<a target=\"_blank\" href=https://colab.research.google.com/notebooks/data_table.ipynb>data table notebook</a>'\n",
              "          + ' to learn more about interactive tables.';\n",
              "        element.innerHTML = '';\n",
              "        dataTable['output_type'] = 'display_data';\n",
              "        await google.colab.output.renderOutput(dataTable, element);\n",
              "        const docLink = document.createElement('div');\n",
              "        docLink.innerHTML = docLinkHtml;\n",
              "        element.appendChild(docLink);\n",
              "      }\n",
              "    </script>\n",
              "  </div>\n",
              "\n",
              "\n",
              "<div id=\"df-69abcb62-87b1-4cd4-9abd-0dc664124162\">\n",
              "  <button class=\"colab-df-quickchart\" onclick=\"quickchart('df-69abcb62-87b1-4cd4-9abd-0dc664124162')\"\n",
              "            title=\"Suggest charts.\"\n",
              "            style=\"display:none;\">\n",
              "\n",
              "<svg xmlns=\"http://www.w3.org/2000/svg\" height=\"24px\"viewBox=\"0 0 24 24\"\n",
              "     width=\"24px\">\n",
              "    <g>\n",
              "        <path d=\"M19 3H5c-1.1 0-2 .9-2 2v14c0 1.1.9 2 2 2h14c1.1 0 2-.9 2-2V5c0-1.1-.9-2-2-2zM9 17H7v-7h2v7zm4 0h-2V7h2v10zm4 0h-2v-4h2v4z\"/>\n",
              "    </g>\n",
              "</svg>\n",
              "  </button>\n",
              "\n",
              "<style>\n",
              "  .colab-df-quickchart {\n",
              "      --bg-color: #E8F0FE;\n",
              "      --fill-color: #1967D2;\n",
              "      --hover-bg-color: #E2EBFA;\n",
              "      --hover-fill-color: #174EA6;\n",
              "      --disabled-fill-color: #AAA;\n",
              "      --disabled-bg-color: #DDD;\n",
              "  }\n",
              "\n",
              "  [theme=dark] .colab-df-quickchart {\n",
              "      --bg-color: #3B4455;\n",
              "      --fill-color: #D2E3FC;\n",
              "      --hover-bg-color: #434B5C;\n",
              "      --hover-fill-color: #FFFFFF;\n",
              "      --disabled-bg-color: #3B4455;\n",
              "      --disabled-fill-color: #666;\n",
              "  }\n",
              "\n",
              "  .colab-df-quickchart {\n",
              "    background-color: var(--bg-color);\n",
              "    border: none;\n",
              "    border-radius: 50%;\n",
              "    cursor: pointer;\n",
              "    display: none;\n",
              "    fill: var(--fill-color);\n",
              "    height: 32px;\n",
              "    padding: 0;\n",
              "    width: 32px;\n",
              "  }\n",
              "\n",
              "  .colab-df-quickchart:hover {\n",
              "    background-color: var(--hover-bg-color);\n",
              "    box-shadow: 0 1px 2px rgba(60, 64, 67, 0.3), 0 1px 3px 1px rgba(60, 64, 67, 0.15);\n",
              "    fill: var(--button-hover-fill-color);\n",
              "  }\n",
              "\n",
              "  .colab-df-quickchart-complete:disabled,\n",
              "  .colab-df-quickchart-complete:disabled:hover {\n",
              "    background-color: var(--disabled-bg-color);\n",
              "    fill: var(--disabled-fill-color);\n",
              "    box-shadow: none;\n",
              "  }\n",
              "\n",
              "  .colab-df-spinner {\n",
              "    border: 2px solid var(--fill-color);\n",
              "    border-color: transparent;\n",
              "    border-bottom-color: var(--fill-color);\n",
              "    animation:\n",
              "      spin 1s steps(1) infinite;\n",
              "  }\n",
              "\n",
              "  @keyframes spin {\n",
              "    0% {\n",
              "      border-color: transparent;\n",
              "      border-bottom-color: var(--fill-color);\n",
              "      border-left-color: var(--fill-color);\n",
              "    }\n",
              "    20% {\n",
              "      border-color: transparent;\n",
              "      border-left-color: var(--fill-color);\n",
              "      border-top-color: var(--fill-color);\n",
              "    }\n",
              "    30% {\n",
              "      border-color: transparent;\n",
              "      border-left-color: var(--fill-color);\n",
              "      border-top-color: var(--fill-color);\n",
              "      border-right-color: var(--fill-color);\n",
              "    }\n",
              "    40% {\n",
              "      border-color: transparent;\n",
              "      border-right-color: var(--fill-color);\n",
              "      border-top-color: var(--fill-color);\n",
              "    }\n",
              "    60% {\n",
              "      border-color: transparent;\n",
              "      border-right-color: var(--fill-color);\n",
              "    }\n",
              "    80% {\n",
              "      border-color: transparent;\n",
              "      border-right-color: var(--fill-color);\n",
              "      border-bottom-color: var(--fill-color);\n",
              "    }\n",
              "    90% {\n",
              "      border-color: transparent;\n",
              "      border-bottom-color: var(--fill-color);\n",
              "    }\n",
              "  }\n",
              "</style>\n",
              "\n",
              "  <script>\n",
              "    async function quickchart(key) {\n",
              "      const quickchartButtonEl =\n",
              "        document.querySelector('#' + key + ' button');\n",
              "      quickchartButtonEl.disabled = true;  // To prevent multiple clicks.\n",
              "      quickchartButtonEl.classList.add('colab-df-spinner');\n",
              "      try {\n",
              "        const charts = await google.colab.kernel.invokeFunction(\n",
              "            'suggestCharts', [key], {});\n",
              "      } catch (error) {\n",
              "        console.error('Error during call to suggestCharts:', error);\n",
              "      }\n",
              "      quickchartButtonEl.classList.remove('colab-df-spinner');\n",
              "      quickchartButtonEl.classList.add('colab-df-quickchart-complete');\n",
              "    }\n",
              "    (() => {\n",
              "      let quickchartButtonEl =\n",
              "        document.querySelector('#df-69abcb62-87b1-4cd4-9abd-0dc664124162 button');\n",
              "      quickchartButtonEl.style.display =\n",
              "        google.colab.kernel.accessAllowed ? 'block' : 'none';\n",
              "    })();\n",
              "  </script>\n",
              "</div>\n",
              "\n",
              "  <div id=\"id_2f4c32a1-c1bb-4778-9d1a-7bcfac6292b0\">\n",
              "    <style>\n",
              "      .colab-df-generate {\n",
              "        background-color: #E8F0FE;\n",
              "        border: none;\n",
              "        border-radius: 50%;\n",
              "        cursor: pointer;\n",
              "        display: none;\n",
              "        fill: #1967D2;\n",
              "        height: 32px;\n",
              "        padding: 0 0 0 0;\n",
              "        width: 32px;\n",
              "      }\n",
              "\n",
              "      .colab-df-generate:hover {\n",
              "        background-color: #E2EBFA;\n",
              "        box-shadow: 0px 1px 2px rgba(60, 64, 67, 0.3), 0px 1px 3px 1px rgba(60, 64, 67, 0.15);\n",
              "        fill: #174EA6;\n",
              "      }\n",
              "\n",
              "      [theme=dark] .colab-df-generate {\n",
              "        background-color: #3B4455;\n",
              "        fill: #D2E3FC;\n",
              "      }\n",
              "\n",
              "      [theme=dark] .colab-df-generate:hover {\n",
              "        background-color: #434B5C;\n",
              "        box-shadow: 0px 1px 3px 1px rgba(0, 0, 0, 0.15);\n",
              "        filter: drop-shadow(0px 1px 2px rgba(0, 0, 0, 0.3));\n",
              "        fill: #FFFFFF;\n",
              "      }\n",
              "    </style>\n",
              "    <button class=\"colab-df-generate\" onclick=\"generateWithVariable('df')\"\n",
              "            title=\"Generate code using this dataframe.\"\n",
              "            style=\"display:none;\">\n",
              "\n",
              "  <svg xmlns=\"http://www.w3.org/2000/svg\" height=\"24px\"viewBox=\"0 0 24 24\"\n",
              "       width=\"24px\">\n",
              "    <path d=\"M7,19H8.4L18.45,9,17,7.55,7,17.6ZM5,21V16.75L18.45,3.32a2,2,0,0,1,2.83,0l1.4,1.43a1.91,1.91,0,0,1,.58,1.4,1.91,1.91,0,0,1-.58,1.4L9.25,21ZM18.45,9,17,7.55Zm-12,3A5.31,5.31,0,0,0,4.9,8.1,5.31,5.31,0,0,0,1,6.5,5.31,5.31,0,0,0,4.9,4.9,5.31,5.31,0,0,0,6.5,1,5.31,5.31,0,0,0,8.1,4.9,5.31,5.31,0,0,0,12,6.5,5.46,5.46,0,0,0,6.5,12Z\"/>\n",
              "  </svg>\n",
              "    </button>\n",
              "    <script>\n",
              "      (() => {\n",
              "      const buttonEl =\n",
              "        document.querySelector('#id_2f4c32a1-c1bb-4778-9d1a-7bcfac6292b0 button.colab-df-generate');\n",
              "      buttonEl.style.display =\n",
              "        google.colab.kernel.accessAllowed ? 'block' : 'none';\n",
              "\n",
              "      buttonEl.onclick = () => {\n",
              "        google.colab.notebook.generateWithVariable('df');\n",
              "      }\n",
              "      })();\n",
              "    </script>\n",
              "  </div>\n",
              "\n",
              "    </div>\n",
              "  </div>\n"
            ]
          },
          "metadata": {},
          "execution_count": 8
        }
      ]
    },
    {
      "cell_type": "code",
      "source": [
        "cols = list(df)[0:7]\n",
        "print(cols)"
      ],
      "metadata": {
        "colab": {
          "base_uri": "https://localhost:8080/"
        },
        "id": "_2-mezf-VoCH",
        "outputId": "7535ec99-168d-498c-9a89-ab07f47a738b"
      },
      "execution_count": 9,
      "outputs": [
        {
          "output_type": "stream",
          "name": "stdout",
          "text": [
            "['Date', 'Open', 'High', 'Low', 'Close', 'Adj Close', 'Volume']\n"
          ]
        }
      ]
    },
    {
      "cell_type": "code",
      "source": [
        "numSamples = df.shape[0] - 1\n",
        "PctReturns = np.zeros((numSamples))"
      ],
      "metadata": {
        "id": "gu0z6ORUYR33"
      },
      "execution_count": 10,
      "outputs": []
    },
    {
      "cell_type": "code",
      "source": [
        "sampleIdx = 0\n",
        "while sampleIdx < numSamples:\n",
        "  prevClose = float(df['Close'][sampleIdx])\n",
        "  todayClose = float(df['Close'][sampleIdx+1])\n",
        "  PctReturns[sampleIdx] = (todayClose - prevClose) / prevClose * 100\n",
        "  sampleIdx += 1"
      ],
      "metadata": {
        "id": "Mp6aq7vM6SkG"
      },
      "execution_count": 11,
      "outputs": []
    },
    {
      "cell_type": "code",
      "source": [
        "PctReturns"
      ],
      "metadata": {
        "colab": {
          "base_uri": "https://localhost:8080/"
        },
        "id": "0-WgnenGlnoy",
        "outputId": "b6272906-c605-4c9c-f448-84169cb33024"
      },
      "execution_count": 12,
      "outputs": [
        {
          "output_type": "execute_result",
          "data": {
            "text/plain": [
              "array([-0.31388145, -1.54773994,  0.97397878, ...,  1.6913354 ,\n",
              "        0.61808507, -1.99921922])"
            ]
          },
          "metadata": {},
          "execution_count": 12
        }
      ]
    },
    {
      "cell_type": "markdown",
      "source": [
        "## **2.3 Plot Data**"
      ],
      "metadata": {
        "id": "LuiwXLgVaI1k"
      }
    },
    {
      "cell_type": "code",
      "source": [
        "# Create a histogram\n",
        "plt.hist(PctReturns, bins=NUM_BINS_INPUT, edgecolor='k')  # You can adjust the number of bins as needed\n",
        "\n",
        "# Add labels and a title\n",
        "plt.xlabel('Value')\n",
        "plt.ylabel('Frequency')\n",
        "plt.title('Histogram of Data')\n",
        "\n",
        "# Show the plot\n",
        "plt.show()"
      ],
      "metadata": {
        "colab": {
          "base_uri": "https://localhost:8080/",
          "height": 0
        },
        "id": "44tSXa3VasHp",
        "outputId": "3d73fbac-7c07-4af1-b4f1-f433ffbaf64b"
      },
      "execution_count": 13,
      "outputs": [
        {
          "output_type": "display_data",
          "data": {
            "text/plain": [
              "<Figure size 640x480 with 1 Axes>"
            ],
            "image/png": "[encoded data removed]"
          },
          "metadata": {}
        }
      ]
    },
    {
      "cell_type": "markdown",
      "source": [
        "# **3. Pre-Process Data**"
      ],
      "metadata": {
        "id": "LuB6xKDBSfaP"
      }
    },
    {
      "cell_type": "markdown",
      "source": [
        "## **3.1 Normalize**"
      ],
      "metadata": {
        "id": "E7GvYhAMB30k"
      }
    },
    {
      "cell_type": "code",
      "source": [
        "PctReturns = (PctReturns - np.average(PctReturns)) / np.std(PctReturns)"
      ],
      "metadata": {
        "id": "czFaP2bDB7Od"
      },
      "execution_count": 14,
      "outputs": []
    },
    {
      "cell_type": "code",
      "source": [
        "plt.plot(PctReturns, linewidth=0.3)\n",
        "plt.ylabel('Percent Return')\n",
        "plt.xlabel('Time Step')\n",
        "plt.title('AAPL Daily Close Returns')\n",
        "plt.show()"
      ],
      "metadata": {
        "colab": {
          "base_uri": "https://localhost:8080/",
          "height": 0
        },
        "id": "G_bePvROAW4F",
        "outputId": "6c80ad93-6c23-4434-b495-923ed1f83c41"
      },
      "execution_count": 15,
      "outputs": [
        {
          "output_type": "display_data",
          "data": {
            "text/plain": [
              "<Figure size 640x480 with 1 Axes>"
            ],
            "image/png": "[encoded data removed]"
          },
          "metadata": {}
        }
      ]
    },
    {
      "cell_type": "code",
      "source": [
        "INPUT_VOCAB_SIZE = NUM_BINS_INPUT\n",
        "OUTPUT_VOCAB_SIZE = NUM_BINS_OUTPUT + 1   # includes start token (0)\n",
        "retMax = np.max(PctReturns)\n",
        "retMin = np.min(PctReturns)\n",
        "distance = retMax - retMin\n",
        "inputBinSize = distance / NUM_BINS_INPUT"
      ],
      "metadata": {
        "id": "T1p8w-8UmLUh"
      },
      "execution_count": 16,
      "outputs": []
    },
    {
      "cell_type": "markdown",
      "source": [
        "## **3.2 Vocab Functions for Tokenization and Detokenization**"
      ],
      "metadata": {
        "id": "RgBE2kL3SILC"
      }
    },
    {
      "cell_type": "code",
      "source": [
        "def getVocabIdxInput(x):\n",
        "  global retMax, retMin, distance, inputBinSize, NUM_BINS_INPUT\n",
        "  binNumber = int(np.floor((x - retMin) / inputBinSize))\n",
        "  return min(binNumber, NUM_BINS_INPUT)\n",
        "\n",
        "def getVocabIdxOutput(x):\n",
        "  temp = 1\n",
        "  if x > 0:\n",
        "    temp = 2\n",
        "  return temp"
      ],
      "metadata": {
        "id": "WBp-lmCKrtxB"
      },
      "execution_count": 17,
      "outputs": []
    },
    {
      "cell_type": "code",
      "source": [
        "PctReturns[0]"
      ],
      "metadata": {
        "colab": {
          "base_uri": "https://localhost:8080/"
        },
        "id": "9k61jJV0wKOR",
        "outputId": "5f5721bd-294d-486b-b8a2-3b994099f0f8"
      },
      "execution_count": 18,
      "outputs": [
        {
          "output_type": "execute_result",
          "data": {
            "text/plain": [
              "-0.2352648727570541"
            ]
          },
          "metadata": {},
          "execution_count": 18
        }
      ]
    },
    {
      "cell_type": "code",
      "source": [
        "getVocabIdxInput(PctReturns[0])"
      ],
      "metadata": {
        "colab": {
          "base_uri": "https://localhost:8080/"
        },
        "id": "96jOicHssaPF",
        "outputId": "8252896b-5362-408f-f98d-04d209e47012"
      },
      "execution_count": 19,
      "outputs": [
        {
          "output_type": "execute_result",
          "data": {
            "text/plain": [
              "75"
            ]
          },
          "metadata": {},
          "execution_count": 19
        }
      ]
    },
    {
      "cell_type": "markdown",
      "source": [
        "## **3.3 Tokenize Data for Input Vocab and Output Vocab**"
      ],
      "metadata": {
        "id": "6uP8KN6FSQ6d"
      }
    },
    {
      "cell_type": "code",
      "source": [
        "tokenizedReturnsIn = np.zeros((numSamples), dtype=np.int32)\n",
        "tokenizedReturnsOut = np.zeros((numSamples), dtype=np.int32)\n",
        "i = 0\n",
        "while i < numSamples:\n",
        "  tokenizedReturnsIn[i] = getVocabIdxInput(PctReturns[i])\n",
        "  tokenizedReturnsOut[i] = getVocabIdxOutput(PctReturns[i])\n",
        "  i += 1"
      ],
      "metadata": {
        "id": "KFnfpoavzkxb"
      },
      "execution_count": 20,
      "outputs": []
    },
    {
      "cell_type": "markdown",
      "source": [
        "## **3.4 Create Inputs, Targets, Labels**"
      ],
      "metadata": {
        "id": "wcapp8p2Strn"
      }
    },
    {
      "cell_type": "code",
      "source": [
        "NUM_DATA_SAMPLES = numSamples - (CONTEXT_SIZE + TOKENS_TO_PREDICT)\n",
        "inputX = np.zeros((NUM_DATA_SAMPLES, CONTEXT_SIZE), dtype=np.int32)\n",
        "inputY = np.zeros((NUM_DATA_SAMPLES, TOKENS_TO_PREDICT), dtype=np.int32)\n",
        "trueY = np.zeros((NUM_DATA_SAMPLES, TOKENS_TO_PREDICT), dtype=np.int32)"
      ],
      "metadata": {
        "id": "I7mmcfIyw8tn"
      },
      "execution_count": 21,
      "outputs": []
    },
    {
      "cell_type": "code",
      "source": [
        "dataSampleIdx = 0\n",
        "while dataSampleIdx < NUM_DATA_SAMPLES:\n",
        "  inputX[dataSampleIdx, :] = tokenizedReturnsIn[dataSampleIdx:dataSampleIdx+CONTEXT_SIZE]\n",
        "  inputY[dataSampleIdx, 1:] = tokenizedReturnsOut[dataSampleIdx+CONTEXT_SIZE:dataSampleIdx+CONTEXT_SIZE+TOKENS_TO_PREDICT-1]\n",
        "  trueY[dataSampleIdx, :] = tokenizedReturnsOut[dataSampleIdx+CONTEXT_SIZE:dataSampleIdx+CONTEXT_SIZE+TOKENS_TO_PREDICT]\n",
        "  dataSampleIdx += 1"
      ],
      "metadata": {
        "id": "KyvE_ILV3zU1"
      },
      "execution_count": 22,
      "outputs": []
    },
    {
      "cell_type": "markdown",
      "source": [
        "## **3.5 Check for NaN Values**"
      ],
      "metadata": {
        "id": "4vtRz-1PSzEK"
      }
    },
    {
      "cell_type": "code",
      "source": [
        "# Loop through inputX\n",
        "for i in range(inputX.shape[0]):\n",
        "    for j in range(inputX.shape[1]):\n",
        "        if np.isnan(inputX[i, j]):\n",
        "            print(f\"NaN found in inputX at index ({i}, {j})\")\n",
        "\n",
        "# Loop through inputY\n",
        "for i in range(inputY.shape[0]):\n",
        "    for j in range(inputY.shape[1]):\n",
        "        if np.isnan(inputY[i, j]):\n",
        "            print(f\"NaN found in inputY at index ({i}, {j})\")\n",
        "\n",
        "# Loop through trueY\n",
        "for i in range(trueY.shape[0]):\n",
        "    for j in range(trueY.shape[1]):\n",
        "        if np.isnan(trueY[i, j]):\n",
        "            print(f\"NaN found in trueY at index ({i}, {j})\")"
      ],
      "metadata": {
        "id": "M32o6a_xirDC"
      },
      "execution_count": 23,
      "outputs": []
    },
    {
      "cell_type": "markdown",
      "source": [
        "## **3.6 Check Data**"
      ],
      "metadata": {
        "id": "sDbTpXjP_t17"
      }
    },
    {
      "cell_type": "code",
      "source": [
        "sample = 99     # sample to check"
      ],
      "metadata": {
        "id": "xIB2UIUYBy0B"
      },
      "execution_count": 24,
      "outputs": []
    },
    {
      "cell_type": "code",
      "source": [
        "tokenizedReturnsIn[sample:sample+CONTEXT_SIZE+TOKENS_TO_PREDICT]"
      ],
      "metadata": {
        "colab": {
          "base_uri": "https://localhost:8080/"
        },
        "id": "F512o3FO9kBc",
        "outputId": "8eb09279-c2b6-4cb4-dbdf-de42d179d641"
      },
      "execution_count": 25,
      "outputs": [
        {
          "output_type": "execute_result",
          "data": {
            "text/plain": [
              "array([ 77,  79,  68,  70,  70,  80,  71,  72,  89,  76,  79,  81,  78,\n",
              "        75,  77,  78,  83,  78,  70,  70,  80,  83,  77,  74,  82,  84,\n",
              "        84,  71,  75,  76,  77,  83,  78,  73,  69,  68,  77,  85,  69,\n",
              "        73,  80,  73,  78,  84,  84,  78,  69, 127,  82, 101,  75,  75,\n",
              "        79,  78,  86,  71,  75,  73,  75,  85,  78,  77,  72,  86,  84,\n",
              "        77,  79,  78,  84,  88,  76,  88,  75,  73,  86,  84,  80,  76,\n",
              "        87,  81,  75,  67,  71,  83,  76,  78,  75,  71,  77,  74,  78,\n",
              "        81,  84,  83,  81,  77,  81,  90,  73,  77,  75,  78,  85,  70,\n",
              "        74,  66,  86,  74,  82,  93,  76,  81,  86,  73,  76,  61,  81,\n",
              "        74,  74,  76,  74,  79,  85,  77,  85,  79,  80,  84,  86,  77,\n",
              "        77,  82,  78,  73,  85,  78,  79,  82,  52,  72,  82,  73,  75,\n",
              "        96,  80,  79,  77,  73,  81,  78,  72], dtype=int32)"
            ]
          },
          "metadata": {},
          "execution_count": 25
        }
      ]
    },
    {
      "cell_type": "code",
      "source": [
        "inputX[sample, :]"
      ],
      "metadata": {
        "colab": {
          "base_uri": "https://localhost:8080/"
        },
        "id": "zOdumEYo72EG",
        "outputId": "386f2423-cd91-4435-a6c2-b500ab8649e1"
      },
      "execution_count": 26,
      "outputs": [
        {
          "output_type": "execute_result",
          "data": {
            "text/plain": [
              "array([ 77,  79,  68,  70,  70,  80,  71,  72,  89,  76,  79,  81,  78,\n",
              "        75,  77,  78,  83,  78,  70,  70,  80,  83,  77,  74,  82,  84,\n",
              "        84,  71,  75,  76,  77,  83,  78,  73,  69,  68,  77,  85,  69,\n",
              "        73,  80,  73,  78,  84,  84,  78,  69, 127,  82, 101,  75,  75,\n",
              "        79,  78,  86,  71,  75,  73,  75,  85,  78,  77,  72,  86,  84,\n",
              "        77,  79,  78,  84,  88,  76,  88,  75,  73,  86,  84,  80,  76,\n",
              "        87,  81,  75,  67,  71,  83,  76,  78,  75,  71,  77,  74,  78,\n",
              "        81,  84,  83,  81,  77,  81,  90,  73,  77,  75,  78,  85,  70,\n",
              "        74,  66,  86,  74,  82,  93,  76,  81,  86,  73,  76,  61,  81,\n",
              "        74,  74,  76,  74,  79,  85,  77,  85,  79,  80,  84,  86,  77,\n",
              "        77,  82,  78,  73,  85,  78,  79,  82,  52,  72,  82,  73,  75,\n",
              "        96,  80,  79,  77,  73,  81,  78], dtype=int32)"
            ]
          },
          "metadata": {},
          "execution_count": 26
        }
      ]
    },
    {
      "cell_type": "code",
      "source": [
        "inputY[sample, :]"
      ],
      "metadata": {
        "colab": {
          "base_uri": "https://localhost:8080/"
        },
        "id": "LnUNLTjY9dVC",
        "outputId": "f32ee145-051b-4686-bafb-8b4a187f1f73"
      },
      "execution_count": 27,
      "outputs": [
        {
          "output_type": "execute_result",
          "data": {
            "text/plain": [
              "array([0], dtype=int32)"
            ]
          },
          "metadata": {},
          "execution_count": 27
        }
      ]
    },
    {
      "cell_type": "code",
      "source": [
        "trueY[sample, :]"
      ],
      "metadata": {
        "colab": {
          "base_uri": "https://localhost:8080/"
        },
        "id": "dmZiommRBEjB",
        "outputId": "31b4cae0-5e7f-48e0-f7e3-7f7fccf8979c"
      },
      "execution_count": 28,
      "outputs": [
        {
          "output_type": "execute_result",
          "data": {
            "text/plain": [
              "array([1], dtype=int32)"
            ]
          },
          "metadata": {},
          "execution_count": 28
        }
      ]
    },
    {
      "cell_type": "code",
      "source": [
        "tokenizedReturnsOut[sample:sample+CONTEXT_SIZE+TOKENS_TO_PREDICT]"
      ],
      "metadata": {
        "colab": {
          "base_uri": "https://localhost:8080/"
        },
        "id": "hXx7bttCZSkh",
        "outputId": "365e9781-878e-4e3e-a61c-a75e5559eb2a"
      },
      "execution_count": 29,
      "outputs": [
        {
          "output_type": "execute_result",
          "data": {
            "text/plain": [
              "array([1, 2, 1, 1, 1, 2, 1, 1, 2, 1, 2, 2, 2, 1, 1, 1, 2, 1, 1, 1, 2, 2,\n",
              "       1, 1, 2, 2, 2, 1, 1, 1, 1, 2, 2, 1, 1, 1, 1, 2, 1, 1, 2, 1, 2, 2,\n",
              "       2, 1, 1, 2, 2, 2, 1, 1, 2, 2, 2, 1, 1, 1, 1, 2, 2, 1, 1, 2, 2, 1,\n",
              "       2, 2, 2, 2, 1, 2, 1, 1, 2, 2, 2, 1, 2, 2, 1, 1, 1, 2, 1, 2, 1, 1,\n",
              "       1, 1, 1, 2, 2, 2, 2, 1, 2, 2, 1, 1, 1, 2, 2, 1, 1, 1, 2, 1, 2, 2,\n",
              "       1, 2, 2, 1, 1, 1, 2, 1, 1, 1, 1, 2, 2, 1, 2, 2, 2, 2, 2, 1, 1, 2,\n",
              "       2, 1, 2, 2, 2, 2, 1, 1, 2, 1, 1, 2, 2, 2, 1, 1, 2, 2, 1],\n",
              "      dtype=int32)"
            ]
          },
          "metadata": {},
          "execution_count": 29
        }
      ]
    },
    {
      "cell_type": "markdown",
      "source": [
        "## **3.7 Partition Data Into Train/Test**"
      ],
      "metadata": {
        "id": "A3TYZHunS7Ln"
      }
    },
    {
      "cell_type": "code",
      "source": [
        "NUM_BATCHES = int(np.floor(NUM_DATA_SAMPLES / BATCH_SIZE))\n",
        "BATCHES_TO_TRAIN = int(np.round(0.8*NUM_BATCHES))\n",
        "SAMPLES_TO_TRAIN = BATCHES_TO_TRAIN * BATCH_SIZE"
      ],
      "metadata": {
        "id": "IYExNftZEEB2"
      },
      "execution_count": 30,
      "outputs": []
    },
    {
      "cell_type": "code",
      "source": [
        "inputX_train = inputX[0:SAMPLES_TO_TRAIN, :]\n",
        "inputX_val = inputX[SAMPLES_TO_TRAIN:BATCH_SIZE*NUM_BATCHES, :]\n",
        "\n",
        "inputY_train = inputY[0:SAMPLES_TO_TRAIN,:]\n",
        "inputY_val = inputY[SAMPLES_TO_TRAIN:BATCH_SIZE*NUM_BATCHES, :]\n",
        "\n",
        "trueY_train = trueY[0:SAMPLES_TO_TRAIN,:]\n",
        "trueY_val = trueY[SAMPLES_TO_TRAIN:BATCH_SIZE*NUM_BATCHES, :]\n",
        "\n",
        "# Prepare the training dataset.\n",
        "train_dataset = tf.data.Dataset.from_tensor_slices(((inputX_train, inputY_train), trueY_train))     # slices along the first axis of both sets\n",
        "train_dataset = train_dataset.shuffle(buffer_size=1024).batch(BATCH_SIZE)     # creates batches of slices, of size batch_size\n",
        "\n",
        "# Prepare the validation dataset.\n",
        "val_dataset = tf.data.Dataset.from_tensor_slices(((inputX_val, inputY_val), trueY_val))\n",
        "val_dataset = val_dataset.shuffle(buffer_size=1024).batch(BATCH_SIZE)"
      ],
      "metadata": {
        "id": "FdLpATq6E3CP"
      },
      "execution_count": 31,
      "outputs": []
    },
    {
      "cell_type": "code",
      "source": [
        "train_dataset\n",
        "val_dataset"
      ],
      "metadata": {
        "colab": {
          "base_uri": "https://localhost:8080/"
        },
        "id": "3ElAGyyjGG45",
        "outputId": "9d4b2ec6-ef30-4348-e877-98bbc2540809"
      },
      "execution_count": 32,
      "outputs": [
        {
          "output_type": "execute_result",
          "data": {
            "text/plain": [
              "<_BatchDataset element_spec=((TensorSpec(shape=(None, 150), dtype=tf.int32, name=None), TensorSpec(shape=(None, 1), dtype=tf.int32, name=None)), TensorSpec(shape=(None, 1), dtype=tf.int32, name=None))>"
            ]
          },
          "metadata": {},
          "execution_count": 32
        }
      ]
    },
    {
      "cell_type": "markdown",
      "metadata": {
        "id": "FPStSDeHoEy7"
      },
      "source": [
        "# **4. Build and Test Functions for Transformer Model**"
      ]
    },
    {
      "cell_type": "markdown",
      "source": [
        "## **4.1 Grab a Batch for Testing**"
      ],
      "metadata": {
        "id": "w7M3-bqoTnIJ"
      }
    },
    {
      "cell_type": "code",
      "execution_count": 33,
      "metadata": {
        "id": "dUFbkmXza1wq"
      },
      "outputs": [],
      "source": [
        "for (batch, ((x_batch_train, y_batch_train), true_y_batch_train)) in enumerate(train_dataset):\n",
        "  break"
      ]
    },
    {
      "cell_type": "code",
      "execution_count": 34,
      "metadata": {
        "colab": {
          "base_uri": "https://localhost:8080/"
        },
        "id": "9izWvxhDUBHb",
        "outputId": "dae55793-f82e-48ac-ab0a-73ac76d376e7"
      },
      "outputs": [
        {
          "output_type": "stream",
          "name": "stdout",
          "text": [
            "tf.Tensor(\n",
            "[[ 86  71  79 ...  88  77  80]\n",
            " [ 74  75  60 ...  78  75  80]\n",
            " [ 73  86  84 ...  70  66  71]\n",
            " ...\n",
            " [ 73  75  96 ...  82  80  76]\n",
            " [ 77  67  67 ...  52  75  69]\n",
            " [ 82 100  75 ...  76  81  86]], shape=(15, 150), dtype=int32)\n",
            "tf.Tensor(\n",
            "[[0]\n",
            " [0]\n",
            " [0]\n",
            " [0]\n",
            " [0]\n",
            " [0]\n",
            " [0]\n",
            " [0]\n",
            " [0]\n",
            " [0]\n",
            " [0]\n",
            " [0]\n",
            " [0]\n",
            " [0]\n",
            " [0]], shape=(15, 1), dtype=int32)\n",
            "tf.Tensor(\n",
            "[[2]\n",
            " [1]\n",
            " [1]\n",
            " [1]\n",
            " [1]\n",
            " [2]\n",
            " [2]\n",
            " [2]\n",
            " [1]\n",
            " [1]\n",
            " [2]\n",
            " [1]\n",
            " [1]\n",
            " [2]\n",
            " [1]], shape=(15, 1), dtype=int32)\n"
          ]
        }
      ],
      "source": [
        "print(x_batch_train)\n",
        "print(y_batch_train)\n",
        "print(true_y_batch_train)"
      ]
    },
    {
      "cell_type": "markdown",
      "metadata": {
        "id": "Z-PSXhkjfP_C"
      },
      "source": [
        "## **4.2 Embeddings**"
      ]
    },
    {
      "cell_type": "code",
      "execution_count": 35,
      "metadata": {
        "id": "6OLXFMu_B6Od"
      },
      "outputs": [],
      "source": [
        "def positional_encoding(length, depth):\n",
        "  depth = depth/2\n",
        "\n",
        "  positions = np.arange(length)[:, np.newaxis]     # (seq, 1)\n",
        "  depths = np.arange(depth)[np.newaxis, :]/depth   # (1, depth)\n",
        "\n",
        "  angle_rates = 1 / (10000**depths)         # (1, depth)\n",
        "  angle_rads = positions * angle_rates      # (pos, depth)\n",
        "\n",
        "  pos_encoding = np.concatenate(\n",
        "      [np.sin(angle_rads), np.cos(angle_rads)],\n",
        "      axis=-1)\n",
        "\n",
        "  return tf.cast(pos_encoding, dtype=tf.float32)\n",
        "\n",
        "\n",
        "class PositionalEmbedding(tf.keras.layers.Layer):\n",
        "  def __init__(self, vocab_size, d_model):\n",
        "    super().__init__()\n",
        "    self.d_model = d_model\n",
        "    self.embedding = tf.keras.layers.Embedding(vocab_size, d_model, mask_zero=True)  # Add mask_zero=True here\n",
        "    self.pos_encoding = positional_encoding(length=2048, depth=d_model)\n",
        "\n",
        "  def compute_mask(self, inputs, mask=None):\n",
        "    # The mask returned by this layer is the same as the one received (identity mask).\n",
        "    return mask\n",
        "\n",
        "  def call(self, x, mask=None):\n",
        "    length = tf.shape(x)[1]\n",
        "    x = self.embedding(x)\n",
        "    # This factor sets the relative scale of the embedding and positional_encoding.\n",
        "    x *= tf.math.sqrt(tf.cast(self.d_model, tf.float32))\n",
        "    x = x + self.pos_encoding[tf.newaxis, :length, :]\n",
        "    return x"
      ]
    },
    {
      "cell_type": "code",
      "execution_count": 36,
      "metadata": {
        "colab": {
          "base_uri": "https://localhost:8080/"
        },
        "id": "TXv92nrLbWXO",
        "outputId": "0f1176d0-2f3c-4637-febb-078ad97f163b"
      },
      "outputs": [
        {
          "output_type": "stream",
          "name": "stdout",
          "text": [
            "x_emb shape: (15, 150, 1024)\n",
            "y_emb shape: (15, 1, 1024)\n"
          ]
        }
      ],
      "source": [
        "# We only use one embedder since the input and output vocab are the same\n",
        "# (use two embedders if it's a vision transformer, one language to another\n",
        "# language, etc)\n",
        "gen_embed = PositionalEmbedding(vocab_size=INPUT_VOCAB_SIZE, d_model=D_MODEL)\n",
        "\n",
        "x_emb = gen_embed(x_batch_train)\n",
        "y_emb = gen_embed(y_batch_train)\n",
        "\n",
        "print(f'x_emb shape: {x_emb.shape}')\n",
        "print(f'y_emb shape: {y_emb.shape}')"
      ]
    },
    {
      "cell_type": "markdown",
      "metadata": {
        "id": "t9H2c3tafK97"
      },
      "source": [
        "## **4.3 Attention Types**"
      ]
    },
    {
      "cell_type": "code",
      "execution_count": 37,
      "metadata": {
        "id": "ndbZdsnherfT"
      },
      "outputs": [],
      "source": [
        "class BaseAttention(tf.keras.layers.Layer):\n",
        "  def __init__(self, **kwargs):\n",
        "    super().__init__()\n",
        "    self.mha = tf.keras.layers.MultiHeadAttention(**kwargs)\n",
        "    self.layernorm = tf.keras.layers.LayerNormalization()\n",
        "    self.add = tf.keras.layers.Add()"
      ]
    },
    {
      "cell_type": "code",
      "execution_count": 38,
      "metadata": {
        "id": "j9oeNFGZg-at"
      },
      "outputs": [],
      "source": [
        "class CrossAttention(BaseAttention):\n",
        "  def call(self, x, context):\n",
        "    attn_output, attn_scores = self.mha(\n",
        "        query=x,\n",
        "        key=context,\n",
        "        value=context,\n",
        "        return_attention_scores=True)\n",
        "\n",
        "    # Cache the attention scores for plotting later.\n",
        "    self.last_attn_scores = attn_scores\n",
        "\n",
        "    x = self.add([x, attn_output])\n",
        "    x = self.layernorm(x)\n",
        "\n",
        "    return x"
      ]
    },
    {
      "cell_type": "code",
      "execution_count": 39,
      "metadata": {
        "colab": {
          "base_uri": "https://localhost:8080/"
        },
        "id": "xB-1hWxRhixU",
        "outputId": "c7047d57-8183-4d64-d332-a1f41157f495"
      },
      "outputs": [
        {
          "output_type": "stream",
          "name": "stdout",
          "text": [
            "(15, 150, 1024)\n"
          ]
        }
      ],
      "source": [
        "sample_ca = CrossAttention(num_heads=NUM_HEADS, key_dim=D_K)\n",
        "\n",
        "print(sample_ca(x_emb, y_emb).shape)"
      ]
    },
    {
      "cell_type": "code",
      "execution_count": 40,
      "metadata": {
        "id": "wPlU_qP4hxxW"
      },
      "outputs": [],
      "source": [
        "class GlobalSelfAttention(BaseAttention):\n",
        "  def call(self, x):\n",
        "    attn_output = self.mha(\n",
        "        query=x,\n",
        "        value=x,\n",
        "        key=x)\n",
        "    x = self.add([x, attn_output])\n",
        "    x = self.layernorm(x)\n",
        "    return x"
      ]
    },
    {
      "cell_type": "code",
      "execution_count": 41,
      "metadata": {
        "colab": {
          "base_uri": "https://localhost:8080/"
        },
        "id": "1aGce32gh0N4",
        "outputId": "5ca24cf4-abd4-45ed-dc03-0bce045be3bb"
      },
      "outputs": [
        {
          "output_type": "stream",
          "name": "stdout",
          "text": [
            "(15, 150, 1024)\n"
          ]
        }
      ],
      "source": [
        "sample_gsa = GlobalSelfAttention(num_heads=2, key_dim=512)\n",
        "\n",
        "print(sample_gsa(x_emb).shape)"
      ]
    },
    {
      "cell_type": "code",
      "execution_count": 42,
      "metadata": {
        "id": "I7goP8Fah8ak"
      },
      "outputs": [],
      "source": [
        "class CausalSelfAttention(BaseAttention):\n",
        "  def call(self, x):\n",
        "    attn_output = self.mha(\n",
        "        query=x,\n",
        "        value=x,\n",
        "        key=x,\n",
        "        use_causal_mask = True)\n",
        "    x = self.add([x, attn_output])\n",
        "    x = self.layernorm(x)\n",
        "    return x"
      ]
    },
    {
      "cell_type": "code",
      "execution_count": 43,
      "metadata": {
        "colab": {
          "base_uri": "https://localhost:8080/"
        },
        "id": "21ToRnJKh-2v",
        "outputId": "a33512df-1a67-460c-b294-406dc23187ec"
      },
      "outputs": [
        {
          "output_type": "stream",
          "name": "stdout",
          "text": [
            "(15, 1, 1024)\n"
          ]
        }
      ],
      "source": [
        "sample_csa = CausalSelfAttention(num_heads=NUM_HEADS, key_dim=D_K)\n",
        "\n",
        "print(sample_csa(y_emb).shape)"
      ]
    },
    {
      "cell_type": "markdown",
      "metadata": {
        "id": "oiE7vQy-mC8_"
      },
      "source": [
        "## **4.4 Feed Forward**"
      ]
    },
    {
      "cell_type": "code",
      "execution_count": 44,
      "metadata": {
        "id": "5QTDKCvoiUMf"
      },
      "outputs": [],
      "source": [
        "class FeedForward(tf.keras.layers.Layer):\n",
        "  def __init__(self, d_model, dff, dropout_rate=0.1):\n",
        "    super().__init__()\n",
        "    self.seq = tf.keras.Sequential([\n",
        "      tf.keras.layers.Dense(dff, activation='relu'),\n",
        "      tf.keras.layers.Dense(d_model),\n",
        "      tf.keras.layers.Dropout(dropout_rate)\n",
        "    ])\n",
        "    self.add = tf.keras.layers.Add()\n",
        "    self.layer_norm = tf.keras.layers.LayerNormalization()\n",
        "\n",
        "  def call(self, x):\n",
        "    x = self.add([x, self.seq(x)])\n",
        "    x = self.layer_norm(x)\n",
        "    return x"
      ]
    },
    {
      "cell_type": "code",
      "execution_count": 45,
      "metadata": {
        "colab": {
          "base_uri": "https://localhost:8080/"
        },
        "id": "CWBY6gcNiXQP",
        "outputId": "a4b9aac5-d03b-4d82-81fa-7911a4d89303"
      },
      "outputs": [
        {
          "output_type": "stream",
          "name": "stdout",
          "text": [
            "(15, 1, 1024)\n"
          ]
        }
      ],
      "source": [
        "sample_ffn = FeedForward(D_MODEL, D_FF)\n",
        "\n",
        "print(sample_ffn(y_emb).shape)"
      ]
    },
    {
      "cell_type": "markdown",
      "metadata": {
        "id": "G5v1bgGlmEmc"
      },
      "source": [
        "## **4.5 Encoder Layer**"
      ]
    },
    {
      "cell_type": "code",
      "execution_count": 46,
      "metadata": {
        "id": "MOJ3b50eicKj"
      },
      "outputs": [],
      "source": [
        "class EncoderLayer(tf.keras.layers.Layer):\n",
        "  def __init__(self,*, d_model, num_heads, dff, dropout_rate=0.1):\n",
        "    super().__init__()\n",
        "\n",
        "    self.self_attention = GlobalSelfAttention(\n",
        "        num_heads=num_heads,\n",
        "        key_dim=d_model,\n",
        "        dropout=dropout_rate)\n",
        "\n",
        "    self.ffn = FeedForward(d_model, dff)\n",
        "\n",
        "  def call(self, x):\n",
        "    x = self.self_attention(x)\n",
        "    x = self.ffn(x)\n",
        "    return x"
      ]
    },
    {
      "cell_type": "code",
      "execution_count": 47,
      "metadata": {
        "colab": {
          "base_uri": "https://localhost:8080/"
        },
        "id": "KpQNq_GsiejQ",
        "outputId": "d40da3f7-881c-469f-8110-db27898479a4"
      },
      "outputs": [
        {
          "output_type": "stream",
          "name": "stdout",
          "text": [
            "(15, 150, 1024)\n"
          ]
        }
      ],
      "source": [
        "sample_encoder_layer = EncoderLayer(d_model=D_MODEL, num_heads=NUM_HEADS, dff=D_FF)\n",
        "\n",
        "print(sample_encoder_layer(x_emb).shape)"
      ]
    },
    {
      "cell_type": "markdown",
      "metadata": {
        "id": "54iNeucomGEM"
      },
      "source": [
        "## **4.6 Encoder Block**"
      ]
    },
    {
      "cell_type": "code",
      "execution_count": 48,
      "metadata": {
        "id": "omnGSw1eioHM"
      },
      "outputs": [],
      "source": [
        "class Encoder(tf.keras.layers.Layer):\n",
        "  def __init__(self, *, num_layers, d_model, num_heads,\n",
        "               dff, vocab_size, dropout_rate=0.1):\n",
        "    super().__init__()\n",
        "\n",
        "    self.d_model = d_model\n",
        "    self.num_layers = num_layers\n",
        "\n",
        "    self.pos_embedding = PositionalEmbedding(\n",
        "        vocab_size=vocab_size, d_model=d_model)\n",
        "\n",
        "    self.enc_layers = [\n",
        "        EncoderLayer(d_model=d_model,\n",
        "                     num_heads=num_heads,\n",
        "                     dff=dff,\n",
        "                     dropout_rate=dropout_rate)\n",
        "        for _ in range(num_layers)]\n",
        "    self.dropout = tf.keras.layers.Dropout(dropout_rate)\n",
        "\n",
        "  def call(self, x):\n",
        "    # `x` is token-IDs shape: (batch, seq_len)\n",
        "    x = self.pos_embedding(x)  # Shape `(batch_size, seq_len, d_model)`.\n",
        "\n",
        "    # Add dropout.\n",
        "    x = self.dropout(x)\n",
        "\n",
        "    for i in range(self.num_layers):\n",
        "      x = self.enc_layers[i](x)\n",
        "\n",
        "    return x  # Shape `(batch_size, seq_len, d_model)`."
      ]
    },
    {
      "cell_type": "code",
      "execution_count": 49,
      "metadata": {
        "id": "jqSq5FQliq7Q",
        "colab": {
          "base_uri": "https://localhost:8080/"
        },
        "outputId": "ed8916ab-445f-451d-f4f2-18e2696d0c2c"
      },
      "outputs": [
        {
          "output_type": "stream",
          "name": "stdout",
          "text": [
            "(15, 150, 1024)\n"
          ]
        }
      ],
      "source": [
        "# Instantiate the encoder.\n",
        "sample_encoder = Encoder(num_layers=NUM_LAYERS,\n",
        "                         d_model=D_MODEL,\n",
        "                         num_heads=NUM_HEADS,\n",
        "                         dff=D_FF,\n",
        "                         vocab_size=INPUT_VOCAB_SIZE)\n",
        "\n",
        "sample_encoder_output = sample_encoder(x_batch_train, training=False)\n",
        "\n",
        "# Print the shape.\n",
        "print(sample_encoder_output.shape)  # Shape `(batch_size, input_seq_len, d_model)`."
      ]
    },
    {
      "cell_type": "markdown",
      "metadata": {
        "id": "xZpz1V_EmHuG"
      },
      "source": [
        "## **4.7 Decoder Layer**"
      ]
    },
    {
      "cell_type": "code",
      "execution_count": 50,
      "metadata": {
        "id": "pUPXEdXmi7xE"
      },
      "outputs": [],
      "source": [
        "class DecoderLayer(tf.keras.layers.Layer):\n",
        "  def __init__(self,\n",
        "               *,\n",
        "               d_model,\n",
        "               num_heads,\n",
        "               dff,\n",
        "               dropout_rate=0.1):\n",
        "    super(DecoderLayer, self).__init__()\n",
        "\n",
        "    self.causal_self_attention = CausalSelfAttention(\n",
        "        num_heads=num_heads,\n",
        "        key_dim=d_model,\n",
        "        dropout=dropout_rate)\n",
        "\n",
        "    self.cross_attention = CrossAttention(\n",
        "        num_heads=num_heads,\n",
        "        key_dim=d_model,\n",
        "        dropout=dropout_rate)\n",
        "\n",
        "    self.ffn = FeedForward(d_model, dff)\n",
        "\n",
        "  def call(self, x, context):\n",
        "    x = self.causal_self_attention(x=x)\n",
        "    x = self.cross_attention(x=x, context=context)\n",
        "\n",
        "    # Cache the last attention scores for plotting later\n",
        "    self.last_attn_scores = self.cross_attention.last_attn_scores\n",
        "\n",
        "    x = self.ffn(x)  # Shape `(batch_size, seq_len, d_model)`.\n",
        "    return x"
      ]
    },
    {
      "cell_type": "code",
      "execution_count": 51,
      "metadata": {
        "colab": {
          "base_uri": "https://localhost:8080/"
        },
        "id": "UGL40ZOli-jU",
        "outputId": "e49776a9-9865-480a-8171-efc0076e2a29"
      },
      "outputs": [
        {
          "output_type": "stream",
          "name": "stdout",
          "text": [
            "(15, 1, 1024)\n"
          ]
        }
      ],
      "source": [
        "sample_decoder_layer = DecoderLayer(d_model=D_MODEL, num_heads=NUM_HEADS, dff=D_FF)\n",
        "\n",
        "sample_decoder_layer_output = sample_decoder_layer(\n",
        "    x=y_emb, context=x_emb)\n",
        "\n",
        "print(sample_decoder_layer_output.shape)  # `(batch_size, seq_len, d_model)`"
      ]
    },
    {
      "cell_type": "markdown",
      "metadata": {
        "id": "rX85cKoXmI84"
      },
      "source": [
        "## **4.8 Decoder Block**"
      ]
    },
    {
      "cell_type": "code",
      "execution_count": 52,
      "metadata": {
        "id": "6UgSPTi5jQUp"
      },
      "outputs": [],
      "source": [
        "class Decoder(tf.keras.layers.Layer):\n",
        "  def __init__(self, *, num_layers, d_model, num_heads, dff, vocab_size,\n",
        "               dropout_rate=0.1):\n",
        "    super(Decoder, self).__init__()\n",
        "\n",
        "    self.d_model = d_model\n",
        "    self.num_layers = num_layers\n",
        "\n",
        "    self.pos_embedding = PositionalEmbedding(vocab_size=vocab_size,\n",
        "                                             d_model=d_model)\n",
        "    self.dropout = tf.keras.layers.Dropout(dropout_rate)\n",
        "    self.dec_layers = [\n",
        "        DecoderLayer(d_model=d_model, num_heads=num_heads,\n",
        "                     dff=dff, dropout_rate=dropout_rate)\n",
        "        for _ in range(num_layers)]\n",
        "\n",
        "    self.last_attn_scores = None\n",
        "\n",
        "  def call(self, x, context):\n",
        "    # `x` is token-IDs shape (batch, target_seq_len)\n",
        "    x = self.pos_embedding(x)  # (batch_size, target_seq_len, d_model)\n",
        "\n",
        "    x = self.dropout(x)\n",
        "\n",
        "    for i in range(self.num_layers):\n",
        "      x  = self.dec_layers[i](x, context)\n",
        "\n",
        "    self.last_attn_scores = self.dec_layers[-1].last_attn_scores\n",
        "\n",
        "    # The shape of x is (batch_size, target_seq_len, d_model).\n",
        "    return x"
      ]
    },
    {
      "cell_type": "code",
      "execution_count": 53,
      "metadata": {
        "id": "2RaOK1QAjgBa",
        "colab": {
          "base_uri": "https://localhost:8080/"
        },
        "outputId": "c51e96ab-fe41-4eb2-99d9-b777fcf45cd2"
      },
      "outputs": [
        {
          "output_type": "stream",
          "name": "stdout",
          "text": [
            "(15, 150)\n",
            "(15, 150, 1024)\n",
            "(15, 1, 1024)\n"
          ]
        }
      ],
      "source": [
        "# Instantiate the decoder.\n",
        "sample_decoder = Decoder(num_layers=NUM_LAYERS,\n",
        "                         d_model=D_MODEL,\n",
        "                         num_heads=NUM_HEADS,\n",
        "                         dff=D_FF,\n",
        "                         vocab_size=OUTPUT_VOCAB_SIZE)\n",
        "\n",
        "output = sample_decoder(\n",
        "    x = y_batch_train,\n",
        "    context = x_emb)\n",
        "\n",
        "# Print the shapes.\n",
        "print(x_batch_train.shape)\n",
        "print(x_emb.shape)\n",
        "print(output.shape)"
      ]
    },
    {
      "cell_type": "code",
      "execution_count": 54,
      "metadata": {
        "id": "BdmCwLnMj0dY",
        "colab": {
          "base_uri": "https://localhost:8080/"
        },
        "outputId": "1a9914b1-30c6-48c2-d451-37dac0d394ff"
      },
      "outputs": [
        {
          "output_type": "execute_result",
          "data": {
            "text/plain": [
              "TensorShape([15, 16, 1, 150])"
            ]
          },
          "metadata": {},
          "execution_count": 54
        }
      ],
      "source": [
        "sample_decoder.last_attn_scores.shape  # (batch, heads, target_seq, input_seq)"
      ]
    },
    {
      "cell_type": "markdown",
      "source": [
        "# **5. Build Model**"
      ],
      "metadata": {
        "id": "zK1Th52BbxpL"
      }
    },
    {
      "cell_type": "markdown",
      "metadata": {
        "id": "by7yuFVVmK2F"
      },
      "source": [
        "## **5.1 Transformer**"
      ]
    },
    {
      "cell_type": "code",
      "execution_count": 55,
      "metadata": {
        "id": "froRd4tGkDC-"
      },
      "outputs": [],
      "source": [
        "class Transformer(tf.keras.Model):\n",
        "  def __init__(self, *, num_layers, d_model, num_heads, dff,\n",
        "               input_vocab_size, target_vocab_size, dropout_rate=0.1):\n",
        "    super().__init__()\n",
        "    self.encoder = Encoder(num_layers=num_layers, d_model=d_model,\n",
        "                           num_heads=num_heads, dff=dff,\n",
        "                           vocab_size=input_vocab_size,\n",
        "                           dropout_rate=dropout_rate)\n",
        "\n",
        "    self.decoder = Decoder(num_layers=num_layers, d_model=d_model,\n",
        "                           num_heads=num_heads, dff=dff,\n",
        "                           vocab_size=target_vocab_size,\n",
        "                           dropout_rate=dropout_rate)\n",
        "\n",
        "    self.final_layer = tf.keras.layers.Dense(target_vocab_size)\n",
        "\n",
        "  def call(self, inputs):\n",
        "    # To use a Keras model with `.fit` you must pass all your inputs in the\n",
        "    # first argument.\n",
        "    context, x  = inputs\n",
        "\n",
        "    context = self.encoder(context)  # (batch_size, context_len, d_model)\n",
        "\n",
        "    x = self.decoder(x, context)  # (batch_size, target_len, d_model)\n",
        "\n",
        "    # Final linear layer output.\n",
        "    logits = self.final_layer(x)  # (batch_size, target_len, target_vocab_size)\n",
        "\n",
        "    try:\n",
        "      # Drop the keras mask, so it doesn't scale the losses/metrics.\n",
        "      # b/250038731\n",
        "      del logits._keras_mask\n",
        "    except AttributeError:\n",
        "      pass\n",
        "\n",
        "    # Return the final output and the attention weights.\n",
        "    return logits"
      ]
    },
    {
      "cell_type": "code",
      "execution_count": 56,
      "metadata": {
        "id": "BePZC7TlkM0i"
      },
      "outputs": [],
      "source": [
        "transformer = Transformer(\n",
        "    num_layers = NUM_LAYERS,\n",
        "    d_model = D_MODEL,\n",
        "    num_heads = NUM_HEADS,\n",
        "    dff = D_FF,\n",
        "    input_vocab_size = INPUT_VOCAB_SIZE,\n",
        "    target_vocab_size = OUTPUT_VOCAB_SIZE,\n",
        "    dropout_rate = DROPOUT_RATE)"
      ]
    },
    {
      "cell_type": "code",
      "execution_count": 57,
      "metadata": {
        "colab": {
          "base_uri": "https://localhost:8080/"
        },
        "id": "nBhpzxIekToE",
        "outputId": "9f21cc07-60a0-4c90-ed6d-2d46be5c71b5"
      },
      "outputs": [
        {
          "output_type": "stream",
          "name": "stdout",
          "text": [
            "(15, 1)\n",
            "(15, 150)\n",
            "(15, 1, 3)\n",
            "(15, 1)\n"
          ]
        }
      ],
      "source": [
        "output = transformer((x_batch_train, y_batch_train))\n",
        "\n",
        "print(y_batch_train.shape)\n",
        "print(x_batch_train.shape)\n",
        "print(output.shape)\n",
        "print(true_y_batch_train.shape)"
      ]
    },
    {
      "cell_type": "code",
      "execution_count": 58,
      "metadata": {
        "id": "-Qdu7bSlkhDv",
        "colab": {
          "base_uri": "https://localhost:8080/"
        },
        "outputId": "28731241-3ea0-4460-afd8-eebe5e8f4cd7"
      },
      "outputs": [
        {
          "output_type": "stream",
          "name": "stdout",
          "text": [
            "(15, 16, 1, 150)\n"
          ]
        }
      ],
      "source": [
        "attn_scores = transformer.decoder.dec_layers[-1].last_attn_scores\n",
        "print(attn_scores.shape)  # (batch, heads, target_seq, input_seq)"
      ]
    },
    {
      "cell_type": "code",
      "execution_count": 59,
      "metadata": {
        "id": "e0MFxLwzkg-V",
        "colab": {
          "base_uri": "https://localhost:8080/"
        },
        "outputId": "4e9f8a9d-49b2-4628-9f2c-02f8fd6c7898"
      },
      "outputs": [
        {
          "output_type": "stream",
          "name": "stdout",
          "text": [
            "Model: \"transformer\"\n",
            "_________________________________________________________________\n",
            " Layer (type)                Output Shape              Param #   \n",
            "=================================================================\n",
            " encoder_1 (Encoder)         multiple                  428316672 \n",
            "                                                                 \n",
            " decoder_1 (Decoder)         multiple                  831132672 \n",
            "                                                                 \n",
            " dense_54 (Dense)            multiple                  3075      \n",
            "                                                                 \n",
            "=================================================================\n",
            "Total params: 1259452419 (4.69 GB)\n",
            "Trainable params: 1259452419 (4.69 GB)\n",
            "Non-trainable params: 0 (0.00 Byte)\n",
            "_________________________________________________________________\n"
          ]
        }
      ],
      "source": [
        "transformer.summary()"
      ]
    },
    {
      "cell_type": "markdown",
      "metadata": {
        "id": "KMzZAlecmMzh"
      },
      "source": [
        "## **5.2 Learning Rate**"
      ]
    },
    {
      "cell_type": "code",
      "execution_count": 60,
      "metadata": {
        "id": "1JqKNry3lxnu"
      },
      "outputs": [],
      "source": [
        "class CustomSchedule(tf.keras.optimizers.schedules.LearningRateSchedule):\n",
        "  def __init__(self, d_model, warmup_steps=WARMUP_STEPS):\n",
        "    super().__init__()\n",
        "\n",
        "    self.d_model = d_model\n",
        "    self.d_model = tf.cast(self.d_model, tf.float32)\n",
        "\n",
        "    self.warmup_steps = warmup_steps\n",
        "\n",
        "  def __call__(self, step):\n",
        "    step = tf.cast(step, dtype=tf.float32)\n",
        "    arg1 = tf.math.rsqrt(step)\n",
        "    arg2 = step * (self.warmup_steps ** -1.5)\n",
        "\n",
        "    return tf.math.rsqrt(self.d_model) * tf.math.minimum(arg1, arg2)"
      ]
    },
    {
      "cell_type": "code",
      "execution_count": 61,
      "metadata": {
        "id": "VQwMWhRbl3jy"
      },
      "outputs": [],
      "source": [
        "learning_rate = CustomSchedule(D_MODEL)\n",
        "\n",
        "optimizer = tf.keras.optimizers.Adam(learning_rate, beta_1=0.9, beta_2=0.98,\n",
        "                                     epsilon=1e-9)"
      ]
    },
    {
      "cell_type": "code",
      "execution_count": 62,
      "metadata": {
        "colab": {
          "base_uri": "https://localhost:8080/",
          "height": 0
        },
        "id": "F8AHnuqOl5um",
        "outputId": "1c017eb4-0e78-46b3-e57b-a0ab3d00c86c"
      },
      "outputs": [
        {
          "output_type": "execute_result",
          "data": {
            "text/plain": [
              "Text(0.5, 0, 'Train Step')"
            ]
          },
          "metadata": {},
          "execution_count": 62
        },
        {
          "output_type": "display_data",
          "data": {
            "text/plain": [
              "<Figure size 640x480 with 1 Axes>"
            ],
            "image/png": "[encoded data removed]"
          },
          "metadata": {}
        }
      ],
      "source": [
        "plt.plot(learning_rate(tf.range(40000, dtype=tf.float32)))\n",
        "plt.ylabel('Learning Rate')\n",
        "plt.xlabel('Train Step')"
      ]
    },
    {
      "cell_type": "markdown",
      "metadata": {
        "id": "TGBSaHWgrj-e"
      },
      "source": [
        "## **5.3 Loss**"
      ]
    },
    {
      "cell_type": "code",
      "execution_count": 63,
      "metadata": {
        "id": "hm69DrQJmSO_"
      },
      "outputs": [],
      "source": [
        "def masked_loss(label, pred):\n",
        "  mask = label != -1\n",
        "  loss_object = tf.keras.losses.SparseCategoricalCrossentropy(\n",
        "    from_logits=True, reduction='none')\n",
        "  loss = loss_object(label, pred)\n",
        "\n",
        "  mask = tf.cast(mask, dtype=loss.dtype)\n",
        "  loss *= mask\n",
        "\n",
        "  loss = tf.reduce_sum(loss)/tf.reduce_sum(mask)\n",
        "  return loss\n",
        "\n",
        "\n",
        "def masked_accuracy(label, pred):\n",
        "  pred = tf.argmax(pred, axis=2)\n",
        "  label = tf.cast(label, pred.dtype)\n",
        "  match = label == pred\n",
        "\n",
        "  mask = label != -1\n",
        "\n",
        "  match = match & mask\n",
        "\n",
        "  match = tf.cast(match, dtype=tf.float32)\n",
        "  mask = tf.cast(mask, dtype=tf.float32)\n",
        "  return tf.reduce_sum(match)/tf.reduce_sum(mask)"
      ]
    },
    {
      "cell_type": "markdown",
      "metadata": {
        "id": "6VqXSa2ZrlXY"
      },
      "source": [
        "## **5.4 Compile Model**"
      ]
    },
    {
      "cell_type": "code",
      "execution_count": 64,
      "metadata": {
        "id": "32j91cSYmbBj"
      },
      "outputs": [],
      "source": [
        "transformer.compile(\n",
        "    loss=masked_loss,\n",
        "    optimizer=optimizer,\n",
        "    metrics=[masked_accuracy])"
      ]
    },
    {
      "cell_type": "markdown",
      "source": [
        "# **6. Training**"
      ],
      "metadata": {
        "id": "WZIhTaNpZyxe"
      }
    },
    {
      "cell_type": "markdown",
      "metadata": {
        "id": "kfJIoYvLrmOL"
      },
      "source": [
        "## **6.1 Fit**"
      ]
    },
    {
      "cell_type": "code",
      "execution_count": null,
      "metadata": {
        "colab": {
          "base_uri": "https://localhost:8080/"
        },
        "id": "7pFXkNd2tKB9",
        "outputId": "366c1833-6454-4f64-99db-5705a4a7977d"
      },
      "outputs": [
        {
          "output_type": "stream",
          "name": "stdout",
          "text": [
            "Epoch 1/200\n",
            "126/126 [==============================] - 81s 252ms/step - loss: 0.8946 - masked_accuracy: 0.5095 - val_loss: 0.7139 - val_masked_accuracy: 0.4860\n",
            "Epoch 2/200\n",
            "126/126 [==============================] - 29s 227ms/step - loss: 0.8038 - masked_accuracy: 0.5005 - val_loss: 1.1709 - val_masked_accuracy: 0.4860\n",
            "Epoch 3/200\n",
            "126/126 [==============================] - 29s 228ms/step - loss: 0.7532 - masked_accuracy: 0.5101 - val_loss: 0.7688 - val_masked_accuracy: 0.4860\n",
            "Epoch 4/200\n",
            "126/126 [==============================] - 28s 226ms/step - loss: 0.7477 - masked_accuracy: 0.4995 - val_loss: 0.8767 - val_masked_accuracy: 0.4860\n",
            "Epoch 5/200\n",
            "126/126 [==============================] - 28s 226ms/step - loss: 0.7361 - masked_accuracy: 0.5021 - val_loss: 0.6989 - val_masked_accuracy: 0.5140\n",
            "Epoch 6/200\n",
            "126/126 [==============================] - 28s 226ms/step - loss: 0.7150 - masked_accuracy: 0.5026 - val_loss: 0.7553 - val_masked_accuracy: 0.5140\n",
            "Epoch 7/200\n",
            "126/126 [==============================] - 28s 226ms/step - loss: 0.7082 - masked_accuracy: 0.5101 - val_loss: 0.6955 - val_masked_accuracy: 0.5140\n",
            "Epoch 8/200\n",
            "126/126 [==============================] - 28s 226ms/step - loss: 0.7160 - masked_accuracy: 0.5159 - val_loss: 0.7187 - val_masked_accuracy: 0.4860\n",
            "Epoch 9/200\n",
            "126/126 [==============================] - 28s 226ms/step - loss: 0.7062 - masked_accuracy: 0.4952 - val_loss: 0.7215 - val_masked_accuracy: 0.4860\n",
            "Epoch 10/200\n",
            "126/126 [==============================] - 29s 226ms/step - loss: 0.7052 - masked_accuracy: 0.5095 - val_loss: 0.6928 - val_masked_accuracy: 0.5140\n",
            "Epoch 11/200\n",
            "126/126 [==============================] - 28s 226ms/step - loss: 0.7084 - masked_accuracy: 0.5042 - val_loss: 0.6931 - val_masked_accuracy: 0.5140\n",
            "Epoch 12/200\n",
            "126/126 [==============================] - 28s 226ms/step - loss: 0.7027 - masked_accuracy: 0.4958 - val_loss: 0.7302 - val_masked_accuracy: 0.4860\n",
            "Epoch 13/200\n",
            "126/126 [==============================] - 28s 226ms/step - loss: 0.7034 - masked_accuracy: 0.4958 - val_loss: 0.6981 - val_masked_accuracy: 0.4860\n",
            "Epoch 14/200\n",
            "126/126 [==============================] - 28s 226ms/step - loss: 0.6995 - masked_accuracy: 0.4974 - val_loss: 0.7093 - val_masked_accuracy: 0.5140\n",
            "Epoch 15/200\n",
            "126/126 [==============================] - 28s 226ms/step - loss: 0.7028 - masked_accuracy: 0.4947 - val_loss: 0.7217 - val_masked_accuracy: 0.4860\n",
            "Epoch 16/200\n",
            "126/126 [==============================] - ETA: 0s - loss: 0.7081 - masked_accuracy: 0.4989"
          ]
        }
      ],
      "source": [
        "# Fit the model using NumPy arrays\n",
        "transformer.fit(train_dataset,\n",
        "    epochs=200,\n",
        "    validation_data=val_dataset\n",
        ")"
      ]
    },
    {
      "cell_type": "markdown",
      "source": [
        "# **WORK IN PROGRESS PAST THIS POINT - DEPRECATED CODE FROM PRIOR IMPLEMENTATION - PROCEED AT YOUR OWN RISK**"
      ],
      "metadata": {
        "id": "gkaHeoHyVj7L"
      }
    },
    {
      "cell_type": "markdown",
      "source": [
        "# **7. Testing**"
      ],
      "metadata": {
        "id": "pz9HJwaaJ7Ka"
      }
    },
    {
      "cell_type": "code",
      "source": [
        "# Define a directory to save the model\n",
        "model_dir = '/content/drive/MyDrive/Saved_Models'"
      ],
      "metadata": {
        "id": "qECaCVFSw964"
      },
      "execution_count": null,
      "outputs": []
    },
    {
      "cell_type": "code",
      "source": [
        "# Save the model\n",
        "tf.saved_model.save(transformer, model_dir)"
      ],
      "metadata": {
        "id": "5D71iSor0bHk"
      },
      "execution_count": null,
      "outputs": []
    },
    {
      "cell_type": "code",
      "source": [
        "# Load a saved model (optional)\n",
        "loaded_model = tf.saved_model.load(model_dir)"
      ],
      "metadata": {
        "id": "Q0AXAUMjyBDs"
      },
      "execution_count": null,
      "outputs": []
    },
    {
      "cell_type": "code",
      "source": [
        "tokToShow = 2\n",
        "\n",
        "x_in = np.reshape(inputX_train[0, :], (1, MAX_TOKENS))\n",
        "y_in = np.reshape(inputY_train[0, 0:tokToShow], (1, tokToShow))"
      ],
      "metadata": {
        "id": "-25wcBSLlm2D"
      },
      "execution_count": null,
      "outputs": []
    },
    {
      "cell_type": "code",
      "source": [
        "x_in"
      ],
      "metadata": {
        "id": "PcebB9cw7bye"
      },
      "execution_count": null,
      "outputs": []
    },
    {
      "cell_type": "code",
      "source": [
        "y_in"
      ],
      "metadata": {
        "id": "mIsUNbMs7joY"
      },
      "execution_count": null,
      "outputs": []
    },
    {
      "cell_type": "code",
      "source": [
        "output = transformer((x_in, y_in), training=False)[0, tokToShow-1, :].numpy()\n",
        "outputTok = np.argmax(output)\n",
        "outputTok"
      ],
      "metadata": {
        "id": "Y6s8NMNDloTR"
      },
      "execution_count": null,
      "outputs": []
    },
    {
      "cell_type": "code",
      "source": [
        "class Responder(tf.Module):\n",
        "  def __init__(self, transformer):\n",
        "    self.transformer = transformer\n",
        "\n",
        "  def __call__(self, sentence, max_length=MAX_TOKENS):\n",
        "    x_in = tokenize_and_pad_training([sentence])[:, 0:MAX_TOKENS]\n",
        "    y_in = np.zeros((1, MAX_TOKENS)).astype(np.int32)\n",
        "    startTok = Vocab[1]\n",
        "    inputToks = [startTok]\n",
        "    outputWords = []\n",
        "    lastTok = 1\n",
        "    tokToShow = 1\n",
        "    while outputTok != 2 and tokToShow < MAX_TOKENS:\n",
        "      y_in[0, tokToShow-1] = lastTok\n"
      ],
      "metadata": {
        "id": "bbbecIE1_38f"
      },
      "execution_count": null,
      "outputs": []
    },
    {
      "cell_type": "code",
      "source": [
        "def ReplyBot(sentence):\n",
        "  x_in = tokenize_and_pad_training([sentence])[:, 0:MAX_TOKENS]\n",
        "  y_in = np.zeros((1, MAX_TOKENS)).astype(np.int32)\n",
        "  startTok = Vocab[1]\n",
        "  inputToks = [startTok]\n",
        "  outputWords = []\n",
        "  lastTok = 1\n",
        "  tokToShow = 1\n",
        "  while lastTok != 2 and tokToShow < MAX_TOKENS:\n",
        "    y_in[0, tokToShow-1] = lastTok\n",
        "    output = transformer((x_in, y_in), training=False)[0, tokToShow-1, :].numpy()\n",
        "    lastTok = np.argmax(output)\n",
        "    outputWords.append(Vocab[lastTok, 0])\n",
        "    tokToShow += 1\n",
        "  endTok = Vocab[2, 0]\n",
        "  outputWords.remove(endTok)\n",
        "  response = \"\".join(outputWords)\n",
        "  print(response)"
      ],
      "metadata": {
        "id": "3Bx54MHvC0qA"
      },
      "execution_count": null,
      "outputs": []
    },
    {
      "cell_type": "code",
      "source": [
        "sentence = 'What is gravity?'\n",
        "ReplyBot(sentence)"
      ],
      "metadata": {
        "id": "9QWQ2wI2AUTw"
      },
      "execution_count": null,
      "outputs": []
    },
    {
      "cell_type": "markdown",
      "source": [
        "Ignore"
      ],
      "metadata": {
        "id": "P-CMjWZxJyQD"
      }
    },
    {
      "cell_type": "code",
      "source": [
        "sample = 0\n",
        "nextTok = 0\n",
        "outputToks = []\n",
        "outputTok = 0\n",
        "\n",
        "tokToShow = 1\n",
        "while outputTok != 2 and tokToShow < MAX_TOKENS:\n",
        "  x_in = np.reshape(inputX_train[sample, :], (1, MAX_TOKENS))\n",
        "  y_in = np.reshape(inputY_train[sample, 0:tokToShow], (1, tokToShow))\n",
        "  output = transformer((x_in, y_in), training=False)[0, -1, :].numpy()\n",
        "  outputTok = np.argmax(output)\n",
        "  outputToks.append(outputTok)\n",
        "  tokToShow += 1\n",
        "\n"
      ],
      "metadata": {
        "id": "O0CYJE4op-BR"
      },
      "execution_count": null,
      "outputs": []
    },
    {
      "cell_type": "code",
      "source": [
        "trueToks = np.reshape(trueY[sample, :], (1, MAX_TOKENS))\n",
        "print(f'True Tokens: {trueToks}')\n",
        "predToks = np.reshape(np.array(outputToks), (1, len(outputToks)))\n",
        "print(f'Predicted Tokens: {predToks}')"
      ],
      "metadata": {
        "id": "0vhinwAFs8lG"
      },
      "execution_count": null,
      "outputs": []
    },
    {
      "cell_type": "markdown",
      "source": [
        "Saving"
      ],
      "metadata": {
        "id": "9vnmrBHVJ1eU"
      }
    },
    {
      "cell_type": "code",
      "source": [
        "from tensorflow.keras.models import load_model\n",
        "transformer.save('/content/drive/MyDrive/Transformer_1.hdf5')"
      ],
      "metadata": {
        "id": "otnwNgGPvrGz"
      },
      "execution_count": null,
      "outputs": []
    },
    {
      "cell_type": "code",
      "source": [
        "class Speaker(tf.Module):\n",
        "  def __init__(self, transformer):\n",
        "    self.tokenizers = tokenizers\n",
        "    self.transformer = transformer\n",
        "\n",
        "  def __call__(self, sentence, max_length=MAX_TOKENS):\n",
        "    # The input sentence is Portuguese, hence adding the `[START]` and `[END]` tokens.\n",
        "    assert isinstance(sentence, tf.Tensor)\n",
        "    if len(sentence.shape) == 0:\n",
        "      sentence = sentence[tf.newaxis]\n",
        "\n",
        "    sentence = self.tokenizers.pt.tokenize(sentence).to_tensor()\n",
        "\n",
        "    encoder_input = sentence\n",
        "\n",
        "    # As the output language is English, initialize the output with the\n",
        "    # English `[START]` token.\n",
        "    start_end = self.tokenizers.en.tokenize([''])[0]\n",
        "    start = start_end[0][tf.newaxis]\n",
        "    end = start_end[1][tf.newaxis]\n",
        "\n",
        "    # `tf.TensorArray` is required here (instead of a Python list), so that the\n",
        "    # dynamic-loop can be traced by `tf.function`.\n",
        "    output_array = tf.TensorArray(dtype=tf.int64, size=0, dynamic_size=True)\n",
        "    output_array = output_array.write(0, start)\n",
        "\n",
        "    for i in tf.range(max_length):\n",
        "      output = tf.transpose(output_array.stack())\n",
        "      predictions = self.transformer([encoder_input, output], training=False)\n",
        "\n",
        "      # Select the last token from the `seq_len` dimension.\n",
        "      predictions = predictions[:, -1:, :]  # Shape `(batch_size, 1, vocab_size)`.\n",
        "\n",
        "      predicted_id = tf.argmax(predictions, axis=-1)\n",
        "\n",
        "      # Concatenate the `predicted_id` to the output which is given to the\n",
        "      # decoder as its input.\n",
        "      output_array = output_array.write(i+1, predicted_id[0])\n",
        "\n",
        "      if predicted_id == end:\n",
        "        break\n",
        "\n",
        "    output = tf.transpose(output_array.stack())\n",
        "    # The output shape is `(1, tokens)`.\n",
        "    text = tokenizers.en.detokenize(output)[0]  # Shape: `()`.\n",
        "\n",
        "    tokens = tokenizers.en.lookup(output)[0]\n",
        "\n",
        "    # `tf.function` prevents us from using the attention_weights that were\n",
        "    # calculated on the last iteration of the loop.\n",
        "    # So, recalculate them outside the loop.\n",
        "    self.transformer([encoder_input, output[:,:-1]], training=False)\n",
        "    attention_weights = self.transformer.decoder.last_attn_scores\n",
        "\n",
        "    return text, tokens, attention_weights"
      ],
      "metadata": {
        "id": "d18CpY-gwCGl"
      },
      "execution_count": null,
      "outputs": []
    },
    {
      "cell_type": "code",
      "source": [
        "translator = Translator(transformer)"
      ],
      "metadata": {
        "id": "D9hrawNMweAT"
      },
      "execution_count": null,
      "outputs": []
    },
    {
      "cell_type": "code",
      "source": [
        "def print_translation(sentence, tokens, ground_truth):\n",
        "  print(f'{\"Input:\":15s}: {sentence}')\n",
        "  print(f'{\"Prediction\":15s}: {tokens.numpy().decode(\"utf-8\")}')\n",
        "  print(f'{\"Ground truth\":15s}: {ground_truth}')"
      ],
      "metadata": {
        "id": "xXmoOetVwiL1"
      },
      "execution_count": null,
      "outputs": []
    },
    {
      "cell_type": "markdown",
      "source": [
        "# **8. Other Functions**"
      ],
      "metadata": {
        "id": "VGkPTt8-v_NJ"
      }
    },
    {
      "cell_type": "code",
      "execution_count": null,
      "metadata": {
        "id": "W8Z7744yUJxU"
      },
      "outputs": [],
      "source": [
        "for (batch, ((x_batch_train, y_batch_train), one_hot_y_batch_train)) in enumerate(train_dataset):\n",
        "  break"
      ]
    },
    {
      "cell_type": "code",
      "execution_count": null,
      "metadata": {
        "id": "rr604gsUostX"
      },
      "outputs": [],
      "source": [
        "def speak(input):\n",
        "  global MAX_TOKENS\n",
        "  responses = []\n",
        "  x_in = input\n",
        "  y_in = np.array([[1]])\n",
        "  nextToken = np.argmax(transformer([x_in, y_in], training=False).numpy())\n",
        "  nextWord = Vocab[nextToken,0]\n",
        "  responses.append(nextWord)\n",
        "  numResponses = 1\n",
        "  while nextWord != Vocab[2,:] and numResponses < MAX_TOKENS:\n",
        "    y_in = np.concatenate((y_in, np.reshape(np.array(nextToken), (1,1))), axis=1)\n",
        "    nextToken = np.argmax(transformer([x_in, y_in], training=False).numpy())\n",
        "    nextWord = Vocab[nextToken,0]\n",
        "    responses.append(nextWord)\n",
        "    numResponses += 1\n",
        "  print(\"\".join(responses))"
      ]
    },
    {
      "cell_type": "code",
      "execution_count": null,
      "metadata": {
        "id": "NfPep5WepBaO"
      },
      "outputs": [],
      "source": [
        "question = np.reshape(tempX[0], (1, MAX_TOKENS))\n",
        "print(speak(question))"
      ]
    },
    {
      "cell_type": "code",
      "execution_count": null,
      "metadata": {
        "id": "It8Tjzvxx_Af"
      },
      "outputs": [],
      "source": [
        "x_in = np.reshape(tempX[0], (1, MAX_TOKENS))\n",
        "y_in = np.array([[4]])\n",
        "response = transformer([x_in, y_in], training=False)\n",
        "response_np = response.numpy()\n",
        "idx = np.argmax(response_np)\n",
        "print(idx)"
      ]
    }
  ],
  "metadata": {
    "colab": {
      "provenance": [],
      "machine_shape": "hm",
      "gpuType": "A100"
    },
    "kernelspec": {
      "display_name": "Python 3",
      "name": "python3"
    },
    "language_info": {
      "name": "python"
    },
    "accelerator": "GPU"
  },
  "nbformat": 4,
  "nbformat_minor": 0
}